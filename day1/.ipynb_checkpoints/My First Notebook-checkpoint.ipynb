{
 "cells": [
  {
   "cell_type": "code",
   "execution_count": 2,
   "metadata": {},
   "outputs": [
    {
     "name": "stdout",
     "output_type": "stream",
     "text": [
      "hello, world\n"
     ]
    }
   ],
   "source": [
    "print(\"hello, world\")"
   ]
  },
  {
   "cell_type": "markdown",
   "metadata": {},
   "source": [
    "## Notebook \n",
    "\n",
    "too many code as\n",
    "\n",
    "- pwd\n",
    "- cd\n",
    "- ls\n",
    "\n",
    "## Python doesn't declare type\n",
    "\n",
    "Java : `int x = 4;`\n",
    "Python : `x = 4`\n",
    "\n",
    "\n",
    "1. condition\n",
    "`x = 12 + 12`\n",
    "`x = \"my string`\n",
    "`type (x)`\n",
    "`str`\n",
    "\n",
    "2. condition\n",
    "`x = 12 // 5`\n",
    "`2`\n",
    "\n",
    "\n",
    "## Control Flow\n",
    "\n",
    "- `if` `else`\n",
    "- `while`\n",
    "- `if elif else`"
   ]
  },
  {
   "cell_type": "code",
   "execution_count": 7,
   "metadata": {},
   "outputs": [],
   "source": [
    "# game random 0 - 10\n",
    "import random\n",
    "\n",
    "def guess_number():\n",
    "    random_number = random.randint(0, 10)\n",
    "    guess = input(\"please try guess number: \")\n",
    "    guess = int(guess)\n",
    "    if guess == random_number:\n",
    "        print(\"that right !\")\n",
    "    else:\n",
    "        print(\"sorry that's wrong please try again.\")\n",
    "        \n",
    "    print(random_number)"
   ]
  },
  {
   "cell_type": "code",
   "execution_count": 6,
   "metadata": {},
   "outputs": [
    {
     "name": "stdout",
     "output_type": "stream",
     "text": [
      "please try guess number: 1\n",
      "sorry that's wrong please try again.\n",
      "6\n"
     ]
    }
   ],
   "source": [
    "guess_number()"
   ]
  },
  {
   "cell_type": "markdown",
   "metadata": {},
   "source": [
    "### Python string\n",
    "\n",
    "- more method for use."
   ]
  },
  {
   "cell_type": "code",
   "execution_count": 8,
   "metadata": {},
   "outputs": [],
   "source": [
    "# count english\n",
    "\n",
    "def count_vowel(text: str):\n",
    "    for i in rang(len(text)):\n",
    "        print (text[i])\n",
    "        char = text[i].lower()\n",
    "        if char == \"a\" or char == \"e\" or \\\n",
    "            char == \"i\" or char == \"o\" or char == \"u\"\n",
    "                count += 1\n",
    "    return count\n",
    "    "
   ]
  },
  {
   "cell_type": "code",
   "execution_count": 10,
   "metadata": {},
   "outputs": [
    {
     "name": "stdout",
     "output_type": "stream",
     "text": [
      "I am perter\n"
     ]
    }
   ],
   "source": [
    "count_vowel(\"I am perter\")"
   ]
  },
  {
   "cell_type": "code",
   "execution_count": 16,
   "metadata": {},
   "outputs": [],
   "source": [
    "# count english\n",
    "\n",
    "def count_vowel12(text: str):\n",
    "    count = 0\n",
    "    for i in range(len(text)):\n",
    "        char = text[i].lower()\n",
    "        if char in \"aeiou\":\n",
    "            count += 1\n",
    "    return count\n",
    "    "
   ]
  },
  {
   "cell_type": "code",
   "execution_count": 17,
   "metadata": {},
   "outputs": [
    {
     "data": {
      "text/plain": [
       "6"
      ]
     },
     "execution_count": 17,
     "metadata": {},
     "output_type": "execute_result"
    }
   ],
   "source": [
    "count_vowel12(\"I am a Perterpan\")"
   ]
  },
  {
   "cell_type": "code",
   "execution_count": 28,
   "metadata": {},
   "outputs": [],
   "source": [
    "def get_initials(name):\n",
    "    \"\"\" change fullname to \n",
    "    Arg : \n",
    "        name: string shortname\n",
    "    \n",
    "    Returns:\n",
    "        string shortname\n",
    "        \n",
    "    Example:\n",
    "        get_initails('Michael Jackson')\n",
    "    'MJ'\n",
    "        get_initails('Donald Trump')\n",
    "    'DT'\n",
    "    \"\"\"\n",
    "    short_name = \"\"\n",
    "#     short_name.isupper\n",
    "    for char in name:\n",
    "        if char.isupper():\n",
    "            short_name += char\n",
    "    return short_name\n",
    "    "
   ]
  },
  {
   "cell_type": "code",
   "execution_count": 29,
   "metadata": {},
   "outputs": [
    {
     "data": {
      "text/plain": [
       "'TCJ'"
      ]
     },
     "execution_count": 29,
     "metadata": {},
     "output_type": "execute_result"
    }
   ],
   "source": [
    "get_initials(\"Tanat C Jakphan\")"
   ]
  },
  {
   "cell_type": "markdown",
   "metadata": {},
   "source": [
    "# List ( array )"
   ]
  },
  {
   "cell_type": "code",
   "execution_count": 41,
   "metadata": {},
   "outputs": [],
   "source": [
    "def compute_running_average(number_list):\n",
    "    running_average_list = []\n",
    "    for i in range(len(number_list) - 2):\n",
    "        average = sum(number_list[i:(i+3)]) / 3\n",
    "#         print (number_list[i:(i+3)], average)\n",
    "        running_average_list.append(average)\n",
    "    return running_average_list"
   ]
  },
  {
   "cell_type": "code",
   "execution_count": 42,
   "metadata": {},
   "outputs": [],
   "source": [
    "list_number = [1, 2, 3, 4, 5, 0, 1, 2, 5,]"
   ]
  },
  {
   "cell_type": "code",
   "execution_count": 43,
   "metadata": {},
   "outputs": [
    {
     "name": "stdout",
     "output_type": "stream",
     "text": [
      "0 3\n",
      "[1, 2, 3] 2.0\n",
      "1 4\n",
      "[2, 3, 4] 3.0\n",
      "2 5\n",
      "[3, 4, 5] 4.0\n",
      "3 6\n",
      "[4, 5, 0] 3.0\n",
      "4 7\n",
      "[5, 0, 1] 2.0\n",
      "5 8\n",
      "[0, 1, 2] 1.0\n",
      "6 9\n",
      "[1, 2, 5] 2.6666666666666665\n"
     ]
    }
   ],
   "source": [
    "compute_running_average(list_number)"
   ]
  },
  {
   "cell_type": "code",
   "execution_count": null,
   "metadata": {},
   "outputs": [],
   "source": []
  }
 ],
 "metadata": {
  "kernelspec": {
   "display_name": "Python 3",
   "language": "python",
   "name": "python3"
  },
  "language_info": {
   "codemirror_mode": {
    "name": "ipython",
    "version": 3
   },
   "file_extension": ".py",
   "mimetype": "text/x-python",
   "name": "python",
   "nbconvert_exporter": "python",
   "pygments_lexer": "ipython3",
   "version": "3.7.4"
  }
 },
 "nbformat": 4,
 "nbformat_minor": 2
}
