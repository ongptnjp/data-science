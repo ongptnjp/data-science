{
 "cells": [
  {
   "cell_type": "markdown",
   "metadata": {},
   "source": [
    "<img src=\"http://imgur.com/1ZcRyrc.png\" style=\"float: left; margin: 20px; height: 55px\">\n",
    "\n",
    "## Python Review With Movie Data\n",
    "\n",
    "_Author: Kiefer Katovich and Dave Yerrington (San Francisco)\n",
    "\n",
    "---\n",
    "\n",
    "In this lab, you'll be using the [IMDb](http://www.imdb.com/) `movies` list below as your data set. \n",
    "\n",
    "This lab is designed to help you practice iteration and functions in particular. The normal questions are more gentle, and the challenge questions are suitable for advanced/expert Python students or those with programming experience. \n",
    "\n",
    "All of the questions require writing functions and using iteration to solve. You should print out a test of each function you write.\n",
    "\n",
    "\n",
    "### 1) Load the provided list of `movies` dictionaries."
   ]
  },
  {
   "cell_type": "code",
   "execution_count": 7,
   "metadata": {},
   "outputs": [],
   "source": [
    "# List of movies dictionaries:\n",
    "\n",
    "movies = [\n",
    "{\n",
    "\"name\": \"Usual Suspects\", \n",
    "\"imdb\": 7.0,\n",
    "\"category\": \"Thriller\"\n",
    "},\n",
    "{\n",
    "\"name\": \"Hitman\",\n",
    "\"imdb\": 6.3,\n",
    "\"category\": \"Action\"\n",
    "},\n",
    "{\n",
    "\"name\": \"Dark Knight\",\n",
    "\"imdb\": 9.0,\n",
    "\"category\": \"Adventure\"\n",
    "},\n",
    "{\n",
    "\"name\": \"The Help\",\n",
    "\"imdb\": 8.0,\n",
    "\"category\": \"Drama\"\n",
    "},\n",
    "{\n",
    "\"name\": \"The Choice\",\n",
    "\"imdb\": 6.2,\n",
    "\"category\": \"Romance\"\n",
    "},\n",
    "{\n",
    "\"name\": \"Colonia\",\n",
    "\"imdb\": 7.4,\n",
    "\"category\": \"Romance\"\n",
    "},\n",
    "{\n",
    "\"name\": \"Love\",\n",
    "\"imdb\": 6.0,\n",
    "\"category\": \"Romance\"\n",
    "},\n",
    "{\n",
    "\"name\": \"Bride Wars\",\n",
    "\"imdb\": 5.4,\n",
    "\"category\": \"Romance\"\n",
    "},\n",
    "{\n",
    "\"name\": \"AlphaJet\",\n",
    "\"imdb\": 3.2,\n",
    "\"category\": \"War\"\n",
    "},\n",
    "{\n",
    "\"name\": \"Ringing Crime\",\n",
    "\"imdb\": 4.0,\n",
    "\"category\": \"Crime\"\n",
    "},\n",
    "{\n",
    "\"name\": \"Joking muck\",\n",
    "\"imdb\": 7.2,\n",
    "\"category\": \"Comedy\"\n",
    "},\n",
    "{\n",
    "\"name\": \"What is the name\",\n",
    "\"imdb\": 9.2,\n",
    "\"category\": \"Suspense\"\n",
    "},\n",
    "{\n",
    "\"name\": \"Detective\",\n",
    "\"imdb\": 7.0,\n",
    "\"category\": \"Suspense\"\n",
    "},\n",
    "{\n",
    "\"name\": \"Exam\",\n",
    "\"imdb\": 4.2,\n",
    "\"category\": \"Thriller\"\n",
    "},\n",
    "{\n",
    "\"name\": \"We Two\",\n",
    "\"imdb\": 7.2,\n",
    "\"category\": \"Romance\"\n",
    "}\n",
    "]"
   ]
  },
  {
   "cell_type": "markdown",
   "metadata": {},
   "source": [
    "---\n",
    "\n",
    "### 2) Filtering data by IMDb score.\n",
    "\n",
    "#### 2.1)\n",
    "\n",
    "Write a function that:\n",
    "\n",
    "1) Accepts a single movie dictionary from the `movies` list as an argument.\n",
    "2) Returns `True` if the IMDb score is greater than 5.5.\n",
    "\n",
    "#### 2.2 [Challenge])\n",
    "\n",
    "Write a function that:\n",
    "\n",
    "1) Accepts the `movies` list and a specified category.\n",
    "2) Returns `True` if the average score of the category is higher than the average score of all movies."
   ]
  },
  {
   "cell_type": "code",
   "execution_count": 12,
   "metadata": {},
   "outputs": [
    {
     "data": {
      "text/plain": "True"
     },
     "execution_count": 12,
     "metadata": {},
     "output_type": "execute_result"
    }
   ],
   "source": [
    "def is_greater_than_5point5(movie):\n",
    "    return movie[\"imdb\"] > 5.5\n",
    "\n",
    "is_greater_than_5point5(movies[0])"
   ]
  },
  {
   "cell_type": "code",
   "execution_count": 3,
   "metadata": {},
   "outputs": [],
   "source": [
    "def has_higher_average_than_average_of_category(movies, category_string):\n",
    "    category_average = 0\n",
    "    overall_average = 0\n",
    "    number_of_movies_belonging_to_category = 0\n",
    "    for movie in movies:\n",
    "        overall_average += movie[\"imdb\"]\n",
    "        if (movie[\"category\"] == category_string):\n",
    "            category_average += movie[\"imdb\"]\n",
    "            number_of_movies_belonging_to_category += 1\n",
    "    category_average = category_average / number_of_movies_belonging_to_category\n",
    "    overall_average = overall_average / len(movies)\n",
    "    return category_average > overall_average"
   ]
  },
  {
   "cell_type": "code",
   "execution_count": 27,
   "metadata": {},
   "outputs": [],
   "source": [
    "def find_average_for_category(movies, category):\n",
    "    scores_movie_in_category = [movie[\"imdb\"] for movie in movies if movie[\"category\"] == category]\n",
    "    return sum(scores_movie_in_category) / len(scores_movie_in_category)\n",
    "\n",
    "def find_global_average(movies):\n",
    "    scores = [movie[\"imdb\"] for movie in movies]\n",
    "    return sum(scores) / len(scores)\n",
    "\n",
    "def is_good_category(movies, category):\n",
    "    category_average = find_average_for_category(movies, category)\n",
    "    global_average = find_global_average(movies)\n",
    "    return category_average > global_average"
   ]
  },
  {
   "cell_type": "code",
   "execution_count": 28,
   "metadata": {},
   "outputs": [
    {
     "data": {
      "text/plain": "True"
     },
     "execution_count": 28,
     "metadata": {},
     "output_type": "execute_result"
    }
   ],
   "source": [
    "is_good_category(movies, \"Suspense\")"
   ]
  },
  {
   "cell_type": "code",
   "execution_count": 14,
   "metadata": {},
   "outputs": [
    {
     "data": {
      "text/plain": "['What is the name', 'Detective']"
     },
     "execution_count": 14,
     "metadata": {},
     "output_type": "execute_result"
    }
   ],
   "source": [
    "[movie['name'] for movie in movies if movie[\"category\"] == \"Suspense\"]"
   ]
  },
  {
   "cell_type": "code",
   "execution_count": 4,
   "metadata": {},
   "outputs": [
    {
     "data": {
      "text/plain": "False"
     },
     "execution_count": 4,
     "metadata": {},
     "output_type": "execute_result"
    }
   ],
   "source": [
    "has_higher_average_than_average_of_category(movies, \"Romance\")"
   ]
  },
  {
   "cell_type": "code",
   "execution_count": 5,
   "metadata": {},
   "outputs": [
    {
     "data": {
      "text/plain": "True"
     },
     "execution_count": 5,
     "metadata": {},
     "output_type": "execute_result"
    }
   ],
   "source": [
    "has_higher_average_than_average_of_category(movies, \"Adventure\")"
   ]
  },
  {
   "cell_type": "markdown",
   "metadata": {},
   "source": [
    "---\n",
    "\n",
    "### 3) Creating subsets by numeric condition.\n",
    "\n",
    "#### 3.1)\n",
    "\n",
    "Write a function that:\n",
    "\n",
    "1) Accepts the list of movies and a specified IMDb score.\n",
    "2) Returns the sublist of movies that have scores greater than the one specified.\n",
    "\n",
    "#### 3.2 [Expert])\n",
    "\n",
    "Write a function that:\n",
    "\n",
    "1) Accepts the `movies` list as an argument.\n",
    "2) Returns the `movies` list sorted first by category and then by movie according to category average score and individual IMDb score, respectively."
   ]
  },
  {
   "cell_type": "code",
   "execution_count": 6,
   "metadata": {},
   "outputs": [
    {
     "data": {
      "text/plain": "[{'name': 'Dark Knight', 'imdb': 9.0, 'category': 'Adventure'},\n {'name': 'The Help', 'imdb': 8.0, 'category': 'Drama'},\n {'name': 'Colonia', 'imdb': 7.4, 'category': 'Romance'},\n {'name': 'Joking muck', 'imdb': 7.2, 'category': 'Comedy'},\n {'name': 'What is the name', 'imdb': 9.2, 'category': 'Suspense'},\n {'name': 'We Two', 'imdb': 7.2, 'category': 'Romance'}]"
     },
     "execution_count": 6,
     "metadata": {},
     "output_type": "execute_result"
    }
   ],
   "source": [
    "def sublist_with_scores_greater_than_input(movies, score):\n",
    "    movies_with_scores_greater_than_specified = []\n",
    "    for movie in movies:\n",
    "        if movie[\"imdb\"] > score:\n",
    "            movies_with_scores_greater_than_specified.append(movie)\n",
    "    return movies_with_scores_greater_than_specified\n",
    "\n",
    "sublist_with_scores_greater_than_input(movies, 7.0)"
   ]
  },
  {
   "cell_type": "code",
   "execution_count": 8,
   "metadata": {},
   "outputs": [
    {
     "data": {
      "text/plain": "[{'name': 'Usual Suspects', 'imdb': 7.0, 'category': 'Thriller'},\n {'name': 'Hitman', 'imdb': 6.3, 'category': 'Action'},\n {'name': 'Dark Knight', 'imdb': 9.0, 'category': 'Adventure'},\n {'name': 'The Help', 'imdb': 8.0, 'category': 'Drama'},\n {'name': 'The Choice', 'imdb': 6.2, 'category': 'Romance'},\n {'name': 'Colonia', 'imdb': 7.4, 'category': 'Romance'},\n {'name': 'Love', 'imdb': 6.0, 'category': 'Romance'},\n {'name': 'Bride Wars', 'imdb': 5.4, 'category': 'Romance'},\n {'name': 'AlphaJet', 'imdb': 3.2, 'category': 'War'},\n {'name': 'Ringing Crime', 'imdb': 4.0, 'category': 'Crime'},\n {'name': 'Joking muck', 'imdb': 7.2, 'category': 'Comedy'},\n {'name': 'What is the name', 'imdb': 9.2, 'category': 'Suspense'},\n {'name': 'Detective', 'imdb': 7.0, 'category': 'Suspense'},\n {'name': 'Exam', 'imdb': 4.2, 'category': 'Thriller'},\n {'name': 'We Two', 'imdb': 7.2, 'category': 'Romance'}]"
     },
     "execution_count": 8,
     "metadata": {},
     "output_type": "execute_result"
    }
   ],
   "source": [
    "movies"
   ]
  },
  {
   "cell_type": "markdown",
   "metadata": {},
   "source": [
    "---\n",
    "\n",
    "### 4) Creating subsets by string condition.\n",
    "\n",
    "#### 4.1)\n",
    "\n",
    "Write a function that:\n",
    "\n",
    "1) Accepts the `movies` list and a category name.\n",
    "2) Returns the movie names within that category (case-insensitive!).\n",
    "3) If the category is not in the data, prints a message that says it does not exist and returns `None`.\n",
    "\n",
    "Recall that, to convert a string to lowercase, you can use:\n",
    "\n",
    "```python\n",
    "mystring = 'Dumb and Dumber'\n",
    "lowercase_mystring = mystring.lower()\n",
    "print lowercase_mystring\n",
    "'dumb and dumber'\n",
    "```\n",
    "\n",
    "#### 4.2 [Challenge])\n",
    "\n",
    "Write a function that:\n",
    "\n",
    "1) Accepts the `movies` list and a \"search string.\"\n",
    "2) Returns a dictionary with the keys `'category'` and `'title'` whose values are lists of categories that contain the search string and titles that contain the search string, respectively (case-insensitive!)."
   ]
  },
  {
   "cell_type": "code",
   "execution_count": 15,
   "metadata": {},
   "outputs": [
    {
     "name": "stdout",
     "output_type": "stream",
     "text": "nothing category Disney \n"
    }
   ],
   "source": [
    "def movies_within_specific_category(movies, category_string):\n",
    "    movies_belonging_to_specific_category = []\n",
    "    \n",
    "    # categories_list = [ for movie in movies if movie[\"category\"] not in categories_list]\n",
    "    # for movie in movies:\n",
    "    #     if movie[\"category\"] not in categories_list:\n",
    "    #         categories_list.append(movie[\"category\"])\n",
    "\n",
    "    categories_list = set([movie['category'] for movie in movies])\n",
    "\n",
    "    if category_string not in categories_list:\n",
    "        print(\"Category does not exist\")\n",
    "        return None\n",
    "\n",
    "    for movie in movies:\n",
    "        if movie[\"category\"].lower() == category_string.lower():\n",
    "            movies_belonging_to_specific_category.append(movie)\n",
    "    return movies_belonging_to_specific_category\n",
    "\n",
    "def filter_by_category(movies, category):\n",
    "    results = [movie[\"name\"] for movie in movies\n",
    "                if movie[\"category\"].lower() == category.lower()]\n",
    "    if len(results) == 0:\n",
    "        print(\"nothing category {} \".format(category))\n",
    "        return None\n",
    "    return results\n",
    "\n",
    "# movies_within_specific_category(movies, \"Romance\")\n",
    "\n",
    "filter_by_category(movies, \"Disney\")"
   ]
  },
  {
   "cell_type": "code",
   "execution_count": null,
   "metadata": {},
   "outputs": [],
   "source": [
    "def search_movies(movies, query):\n",
    "    categories = []\n",
    "    titles = []\n",
    "    for movie in movies:\n",
    "        if query.lower() in movie[\"name\"].lower():\n",
    "            titles.append(movie[\"name\"])\n",
    "        if query.lower() in movie[\"category\"].lower():\n",
    "            categories.append(movie[\"category\"])\n",
    "    searched_items = {\n",
    "        \"category\": categories,\n",
    "        \"title\": titles\n",
    "    }\n",
    "    return searched_items\n",
    "\n",
    "search_movies(movies, \"Romance\")"
   ]
  },
  {
   "cell_type": "markdown",
   "metadata": {},
   "source": [
    "---\n",
    "\n",
    "### 5) Multiple conditions.\n",
    "\n",
    "#### 5.1)\n",
    "\n",
    "Write a function that:\n",
    "\n",
    "1) Accepts the `movies` list and a \"search criteria\" variable.\n",
    "2) If the criteria variable is numeric, return a list of movie titles with a score greater than or equal to the criteria.\n",
    "3) If the criteria variable is a string, return a list of movie titles that match that category (case-insensitive!). If there is no match, return an empty list and print an informative message.\n",
    "\n",
    "#### 5.2 [Expert])\n",
    "\n",
    "Write a function that:\n",
    "\n",
    "1) Accepts the `movies` list and a string search criteria variable.\n",
    "2) The search criteria variable can contain within it:\n",
    "  - Boolean operations: `'AND'`, `'OR'`, and `'NOT'` (can have/be lowercase as well, we just capitalized for clarity).\n",
    "  - Search criteria specified with the syntax `score=...`, `category=...`, and/or `title=...`, where the `...` indicates what to look for.\n",
    "    - If `score` is present, it indicates scores greater than or equal to the value.\n",
    "    - For `category` and `title`, the string indicates that the category or title must _contain_ the search string (case-insensitive).\n",
    "3) Return the matches for the search criteria specified."
   ]
  },
  {
   "cell_type": "code",
   "execution_count": 1,
   "metadata": {},
   "outputs": [
    {
     "ename": "NameError",
     "evalue": "name 'movies' is not defined",
     "output_type": "error",
     "traceback": [
      "\u001b[0;31m---------------------------------------------------------------------------\u001b[0m",
      "\u001b[0;31mNameError\u001b[0m                                 Traceback (most recent call last)",
      "\u001b[0;32m<ipython-input-1-17f49998d870>\u001b[0m in \u001b[0;36m<module>\u001b[0;34m\u001b[0m\n\u001b[1;32m     14\u001b[0m     \u001b[0;32mreturn\u001b[0m \u001b[0mmovies_list\u001b[0m\u001b[0;34m\u001b[0m\u001b[0;34m\u001b[0m\u001b[0m\n\u001b[1;32m     15\u001b[0m \u001b[0;34m\u001b[0m\u001b[0m\n\u001b[0;32m---> 16\u001b[0;31m \u001b[0msearch_movies_by_criteria\u001b[0m\u001b[0;34m(\u001b[0m\u001b[0mmovies\u001b[0m\u001b[0;34m,\u001b[0m \u001b[0;34m\"Thriller\"\u001b[0m\u001b[0;34m)\u001b[0m\u001b[0;34m\u001b[0m\u001b[0;34m\u001b[0m\u001b[0m\n\u001b[0m",
      "\u001b[0;31mNameError\u001b[0m: name 'movies' is not defined"
     ]
    }
   ],
   "source": [
    "def search_movies_by_criteria(movies, search_criteria):\n",
    "    movies_list = []\n",
    "    if type(search_criteria) is int or type(search_criteria) is float:\n",
    "        for movie in movies:\n",
    "            if movie[\"imdb\"] > search_criteria:\n",
    "                movies_list.append(movie)\n",
    "    elif type(search_criteria) is str:\n",
    "        for movie in movies:\n",
    "            if movie[\"category\"] == search_criteria:\n",
    "                movies_list.append(movie)\n",
    "    else:\n",
    "        print(\"No results\")\n",
    "        return []\n",
    "    return movies_list\n",
    "\n",
    "search_movies_by_criteria(movies, \"Thriller\")"
   ]
  },
  {
   "cell_type": "code",
   "execution_count": null,
   "metadata": {},
   "outputs": [],
   "source": []
  }
 ],
 "metadata": {
  "kernelspec": {
   "display_name": "Python 3.8.1 64-bit",
   "language": "python",
   "name": "python38164bit44fdfe4c713a4392a544b5f28f7c1bed"
  },
  "language_info": {
   "codemirror_mode": {
    "name": "ipython",
    "version": 2
   },
   "file_extension": ".py",
   "mimetype": "text/x-python",
   "name": "python",
   "nbconvert_exporter": "python",
   "pygments_lexer": "ipython2",
   "version": "3.8.1-final"
  }
 },
 "nbformat": 4,
 "nbformat_minor": 0
}