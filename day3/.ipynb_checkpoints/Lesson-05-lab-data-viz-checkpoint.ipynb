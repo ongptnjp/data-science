{
 "cells": [
  {
   "cell_type": "markdown",
   "metadata": {},
   "source": [
    "<img src=\"http://imgur.com/1ZcRyrc.png\" style=\"float: left; margin: 20px; height: 55px\">\n",
    "\n",
    "## Guided Practice: Explore Python Data Visualization\n",
    "\n",
    "_Authors: Alexander Combs (New York City), Dave Yerrington (San Francisco), and Kevin Markham (Washington, D.C.)_\n",
    "\n",
    "---\n",
    "\n",
    "In this guided practice lab you will use Pandas, Matplotlib, and Seaborn to create simple plots.\n",
    "\n",
    "We'll cover plotting line plots, scatter plots, bar plots, and histograms, and how to manipulate the style of your plots with Matplotlib."
   ]
  },
  {
   "cell_type": "markdown",
   "metadata": {},
   "source": [
    "## Learning Objectives\n",
    "\n",
    "- **Practice** using different types of plots.\n",
    "- **Use** Pandas methods for plotting.\n",
    "- **Create** line plots, bar plots, histograms, and box plots.\n",
    "- **Know** when to use Seaborn or advanced Matplotlib"
   ]
  },
  {
   "cell_type": "markdown",
   "metadata": {},
   "source": [
    "## Lesson Guide\n",
    "\n",
    "- [Line Plots](#line-plots)\n",
    "- [Bar Plots](#bar-plots)\n",
    "- [Histograms](#histograms)\n",
    "    - [Grouped Histograms](#grouped-histograms)\n",
    "    \n",
    "    \n",
    "- [Box Plots](#box-plots)\n",
    "    - [Grouped Box Plots](#grouped-box-plots)\n",
    "    \n",
    "- [Scatter Plots](#scatter-plots)\n",
    "- [Using Seaborn](#using-seaborn)\n",
    "- [OPTIONAL: Understanding Matplotlib (Figures, Subplots, and Axes)](#matplotlib)\n",
    "- [OPTIONAL: Additional Topics](#additional-topics)\n",
    "\n",
    "- [Summary](#summary)"
   ]
  },
  {
   "cell_type": "markdown",
   "metadata": {},
   "source": [
    "### Introduction\n",
    "\n",
    "In this lab, we will introduce how plotting works in Pandas and Matplotlib. It is important to know that Pandas uses Matplotlib behind the scenes to make plots. So, you will notice that Pandas plotting methods often use similar parameter names as Matplotlib methods. Further, you can use Matplotlib functions in combination with Pandas methods to alter the plots after drawing them. For example, you can use Matplotlib's `xlabel` and `title` functions to label the plot's x-axis and title, respectively, after it is drawn.\n",
    "\n",
    "As we explore different types of plots, notice:\n",
    "\n",
    "1. Different types of plots are drawn very similarly -- they even tend to share parameter names.\n",
    "2. In Pandas, calling `plot()` on a `DataFrame` is different than calling it on a `Series`. Although the methods are both named `plot`, they may take different parameters.\n",
    "\n"
   ]
  },
  {
   "cell_type": "markdown",
   "metadata": {},
   "source": [
    "### Pandas Plotting Documentation\n",
    "\n",
    "[Link to Documentation](http://pandas.pydata.org/pandas-docs/stable/generated/pandas.DataFrame.plot.html)"
   ]
  },
  {
   "cell_type": "code",
   "execution_count": 1,
   "metadata": {},
   "outputs": [],
   "source": [
    "from IPython.display import HTML\n",
    "\n",
    "import pandas as pd\n",
    "import numpy as np\n",
    "import seaborn as sns\n",
    "import matplotlib.pyplot as plt\n",
    "\n",
    "plt.style.use('fivethirtyeight')\n",
    "%matplotlib inline\n",
    "\n",
    "# Increase default figure and font sizes for easier viewing.\n",
    "plt.rcParams['figure.figsize'] = (8, 6)\n",
    "plt.rcParams['font.size'] = 14"
   ]
  },
  {
   "cell_type": "markdown",
   "metadata": {},
   "source": [
    "### Create fake data for examples."
   ]
  },
  {
   "cell_type": "code",
   "execution_count": 2,
   "metadata": {},
   "outputs": [],
   "source": [
    "df = pd.DataFrame(np.random.randn(10, 4), \n",
    "                  columns=['col1', 'col2', 'col3', 'col4'],\n",
    "                  index=['a', 'b', 'c', 'd', 'e', 'f', 'g', 'h', 'i', 'j'])"
   ]
  },
  {
   "cell_type": "markdown",
   "metadata": {},
   "source": [
    "### Choosing the right type of visualization\n",
    "\n",
    "The choice of visualization should depend what you are trying to show. Here is a helpful flowchart that you can use to determine the best type of visualizations.\n",
    "\n",
    "![Chart Suggestions](../assets/images/chart_suggestions.png)"
   ]
  },
  {
   "cell_type": "markdown",
   "metadata": {},
   "source": [
    "### Load in data sets for visualization examples.\n",
    "\n",
    "The Boston data dictionary can be found: https://archive.ics.uci.edu/ml/machine-learning-databases/housing/housing.names"
   ]
  },
  {
   "cell_type": "code",
   "execution_count": 3,
   "metadata": {},
   "outputs": [
    {
     "name": "stdout",
     "output_type": "stream",
     "text": [
      "1. Title: Boston Housing Data\r\n",
      "\r\n",
      "2. Sources:\r\n",
      "   (a) Origin:  This dataset was taken from the StatLib library which is\r\n",
      "                maintained at Carnegie Mellon University.\r\n",
      "   (b) Creator:  Harrison, D. and Rubinfeld, D.L. 'Hedonic prices and the \r\n",
      "                 demand for clean air', J. Environ. Economics & Management,\r\n",
      "                 vol.5, 81-102, 1978.\r\n",
      "   (c) Date: July 7, 1993\r\n",
      "\r\n",
      "3. Past Usage:\r\n",
      "   -   Used in Belsley, Kuh & Welsch, 'Regression diagnostics ...', Wiley, \r\n",
      "       1980.   N.B. Various transformations are used in the table on\r\n",
      "       pages 244-261.\r\n",
      "    -  Quinlan,R. (1993). Combining Instance-Based and Model-Based Learning.\r\n",
      "       In Proceedings on the Tenth International Conference of Machine \r\n",
      "       Learning, 236-243, University of Massachusetts, Amherst. Morgan\r\n",
      "       Kaufmann.\r\n",
      "\r\n",
      "4. Relevant Information:\r\n",
      "\r\n",
      "   Concerns housing values in suburbs of Boston.\r\n",
      "\r\n",
      "5. Number of Instances: 506\r\n",
      "\r\n",
      "6. Number of Attributes: 13 continuous attributes (including \"class\"\r\n",
      "                         attribute \"MEDV\"), 1 binary-valued attribute.\r\n",
      "\r\n",
      "7. Attribute Information:\r\n",
      "\r\n",
      "    1. CRIM      per capita crime rate by town\r\n",
      "    2. ZN        proportion of residential land zoned for lots over \r\n",
      "                 25,000 sq.ft.\r\n",
      "    3. INDUS     proportion of non-retail business acres per town\r\n",
      "    4. CHAS      Charles River dummy variable (= 1 if tract bounds \r\n",
      "                 river; 0 otherwise)\r\n",
      "    5. NOX       nitric oxides concentration (parts per 10 million)\r\n",
      "    6. RM        average number of rooms per dwelling\r\n",
      "    7. AGE       proportion of owner-occupied units built prior to 1940\r\n",
      "    8. DIS       weighted distances to five Boston employment centres\r\n",
      "    9. RAD       index of accessibility to radial highways\r\n",
      "    10. TAX      full-value property-tax rate per $10,000\r\n",
      "    11. PTRATIO  pupil-teacher ratio by town\r\n",
      "    12. B        1000(Bk - 0.63)^2 where Bk is the proportion of blacks \r\n",
      "                 by town\r\n",
      "    13. LSTAT    % lower status of the population\r\n",
      "    14. MEDV     Median value of owner-occupied homes in $1000's\r\n",
      "\r\n",
      "8. Missing Attribute Values:  None.\r\n",
      "\r\n",
      "\r\n",
      "\r\n"
     ]
    }
   ],
   "source": [
    "!curl https://archive.ics.uci.edu/ml/machine-learning-databases/housing/housing.names"
   ]
  },
  {
   "cell_type": "code",
   "execution_count": 4,
   "metadata": {},
   "outputs": [
    {
     "ename": "FileNotFoundError",
     "evalue": "[Errno 2] File b'data/boston_housing_data.csv' does not exist: b'data/boston_housing_data.csv'",
     "output_type": "error",
     "traceback": [
      "\u001b[0;31m---------------------------------------------------------------------------\u001b[0m",
      "\u001b[0;31mFileNotFoundError\u001b[0m                         Traceback (most recent call last)",
      "\u001b[0;32m<ipython-input-4-a97fd8878037>\u001b[0m in \u001b[0;36m<module>\u001b[0;34m\u001b[0m\n\u001b[1;32m      1\u001b[0m \u001b[0;31m# Read in the Boston housing data.\u001b[0m\u001b[0;34m\u001b[0m\u001b[0;34m\u001b[0m\u001b[0;34m\u001b[0m\u001b[0m\n\u001b[1;32m      2\u001b[0m \u001b[0mhousing_csv\u001b[0m \u001b[0;34m=\u001b[0m \u001b[0;34m'data/boston_housing_data.csv'\u001b[0m\u001b[0;34m\u001b[0m\u001b[0;34m\u001b[0m\u001b[0m\n\u001b[0;32m----> 3\u001b[0;31m \u001b[0mhousing\u001b[0m \u001b[0;34m=\u001b[0m \u001b[0mpd\u001b[0m\u001b[0;34m.\u001b[0m\u001b[0mread_csv\u001b[0m\u001b[0;34m(\u001b[0m\u001b[0mhousing_csv\u001b[0m\u001b[0;34m)\u001b[0m\u001b[0;34m\u001b[0m\u001b[0;34m\u001b[0m\u001b[0m\n\u001b[0m\u001b[1;32m      4\u001b[0m \u001b[0;34m\u001b[0m\u001b[0m\n\u001b[1;32m      5\u001b[0m \u001b[0;31m# Read in the drinks data.\u001b[0m\u001b[0;34m\u001b[0m\u001b[0;34m\u001b[0m\u001b[0;34m\u001b[0m\u001b[0m\n",
      "\u001b[0;32m~/opt/anaconda3/lib/python3.7/site-packages/pandas/io/parsers.py\u001b[0m in \u001b[0;36mparser_f\u001b[0;34m(filepath_or_buffer, sep, delimiter, header, names, index_col, usecols, squeeze, prefix, mangle_dupe_cols, dtype, engine, converters, true_values, false_values, skipinitialspace, skiprows, skipfooter, nrows, na_values, keep_default_na, na_filter, verbose, skip_blank_lines, parse_dates, infer_datetime_format, keep_date_col, date_parser, dayfirst, cache_dates, iterator, chunksize, compression, thousands, decimal, lineterminator, quotechar, quoting, doublequote, escapechar, comment, encoding, dialect, error_bad_lines, warn_bad_lines, delim_whitespace, low_memory, memory_map, float_precision)\u001b[0m\n\u001b[1;32m    683\u001b[0m         )\n\u001b[1;32m    684\u001b[0m \u001b[0;34m\u001b[0m\u001b[0m\n\u001b[0;32m--> 685\u001b[0;31m         \u001b[0;32mreturn\u001b[0m \u001b[0m_read\u001b[0m\u001b[0;34m(\u001b[0m\u001b[0mfilepath_or_buffer\u001b[0m\u001b[0;34m,\u001b[0m \u001b[0mkwds\u001b[0m\u001b[0;34m)\u001b[0m\u001b[0;34m\u001b[0m\u001b[0;34m\u001b[0m\u001b[0m\n\u001b[0m\u001b[1;32m    686\u001b[0m \u001b[0;34m\u001b[0m\u001b[0m\n\u001b[1;32m    687\u001b[0m     \u001b[0mparser_f\u001b[0m\u001b[0;34m.\u001b[0m\u001b[0m__name__\u001b[0m \u001b[0;34m=\u001b[0m \u001b[0mname\u001b[0m\u001b[0;34m\u001b[0m\u001b[0;34m\u001b[0m\u001b[0m\n",
      "\u001b[0;32m~/opt/anaconda3/lib/python3.7/site-packages/pandas/io/parsers.py\u001b[0m in \u001b[0;36m_read\u001b[0;34m(filepath_or_buffer, kwds)\u001b[0m\n\u001b[1;32m    455\u001b[0m \u001b[0;34m\u001b[0m\u001b[0m\n\u001b[1;32m    456\u001b[0m     \u001b[0;31m# Create the parser.\u001b[0m\u001b[0;34m\u001b[0m\u001b[0;34m\u001b[0m\u001b[0;34m\u001b[0m\u001b[0m\n\u001b[0;32m--> 457\u001b[0;31m     \u001b[0mparser\u001b[0m \u001b[0;34m=\u001b[0m \u001b[0mTextFileReader\u001b[0m\u001b[0;34m(\u001b[0m\u001b[0mfp_or_buf\u001b[0m\u001b[0;34m,\u001b[0m \u001b[0;34m**\u001b[0m\u001b[0mkwds\u001b[0m\u001b[0;34m)\u001b[0m\u001b[0;34m\u001b[0m\u001b[0;34m\u001b[0m\u001b[0m\n\u001b[0m\u001b[1;32m    458\u001b[0m \u001b[0;34m\u001b[0m\u001b[0m\n\u001b[1;32m    459\u001b[0m     \u001b[0;32mif\u001b[0m \u001b[0mchunksize\u001b[0m \u001b[0;32mor\u001b[0m \u001b[0miterator\u001b[0m\u001b[0;34m:\u001b[0m\u001b[0;34m\u001b[0m\u001b[0;34m\u001b[0m\u001b[0m\n",
      "\u001b[0;32m~/opt/anaconda3/lib/python3.7/site-packages/pandas/io/parsers.py\u001b[0m in \u001b[0;36m__init__\u001b[0;34m(self, f, engine, **kwds)\u001b[0m\n\u001b[1;32m    893\u001b[0m             \u001b[0mself\u001b[0m\u001b[0;34m.\u001b[0m\u001b[0moptions\u001b[0m\u001b[0;34m[\u001b[0m\u001b[0;34m\"has_index_names\"\u001b[0m\u001b[0;34m]\u001b[0m \u001b[0;34m=\u001b[0m \u001b[0mkwds\u001b[0m\u001b[0;34m[\u001b[0m\u001b[0;34m\"has_index_names\"\u001b[0m\u001b[0;34m]\u001b[0m\u001b[0;34m\u001b[0m\u001b[0;34m\u001b[0m\u001b[0m\n\u001b[1;32m    894\u001b[0m \u001b[0;34m\u001b[0m\u001b[0m\n\u001b[0;32m--> 895\u001b[0;31m         \u001b[0mself\u001b[0m\u001b[0;34m.\u001b[0m\u001b[0m_make_engine\u001b[0m\u001b[0;34m(\u001b[0m\u001b[0mself\u001b[0m\u001b[0;34m.\u001b[0m\u001b[0mengine\u001b[0m\u001b[0;34m)\u001b[0m\u001b[0;34m\u001b[0m\u001b[0;34m\u001b[0m\u001b[0m\n\u001b[0m\u001b[1;32m    896\u001b[0m \u001b[0;34m\u001b[0m\u001b[0m\n\u001b[1;32m    897\u001b[0m     \u001b[0;32mdef\u001b[0m \u001b[0mclose\u001b[0m\u001b[0;34m(\u001b[0m\u001b[0mself\u001b[0m\u001b[0;34m)\u001b[0m\u001b[0;34m:\u001b[0m\u001b[0;34m\u001b[0m\u001b[0;34m\u001b[0m\u001b[0m\n",
      "\u001b[0;32m~/opt/anaconda3/lib/python3.7/site-packages/pandas/io/parsers.py\u001b[0m in \u001b[0;36m_make_engine\u001b[0;34m(self, engine)\u001b[0m\n\u001b[1;32m   1133\u001b[0m     \u001b[0;32mdef\u001b[0m \u001b[0m_make_engine\u001b[0m\u001b[0;34m(\u001b[0m\u001b[0mself\u001b[0m\u001b[0;34m,\u001b[0m \u001b[0mengine\u001b[0m\u001b[0;34m=\u001b[0m\u001b[0;34m\"c\"\u001b[0m\u001b[0;34m)\u001b[0m\u001b[0;34m:\u001b[0m\u001b[0;34m\u001b[0m\u001b[0;34m\u001b[0m\u001b[0m\n\u001b[1;32m   1134\u001b[0m         \u001b[0;32mif\u001b[0m \u001b[0mengine\u001b[0m \u001b[0;34m==\u001b[0m \u001b[0;34m\"c\"\u001b[0m\u001b[0;34m:\u001b[0m\u001b[0;34m\u001b[0m\u001b[0;34m\u001b[0m\u001b[0m\n\u001b[0;32m-> 1135\u001b[0;31m             \u001b[0mself\u001b[0m\u001b[0;34m.\u001b[0m\u001b[0m_engine\u001b[0m \u001b[0;34m=\u001b[0m \u001b[0mCParserWrapper\u001b[0m\u001b[0;34m(\u001b[0m\u001b[0mself\u001b[0m\u001b[0;34m.\u001b[0m\u001b[0mf\u001b[0m\u001b[0;34m,\u001b[0m \u001b[0;34m**\u001b[0m\u001b[0mself\u001b[0m\u001b[0;34m.\u001b[0m\u001b[0moptions\u001b[0m\u001b[0;34m)\u001b[0m\u001b[0;34m\u001b[0m\u001b[0;34m\u001b[0m\u001b[0m\n\u001b[0m\u001b[1;32m   1136\u001b[0m         \u001b[0;32melse\u001b[0m\u001b[0;34m:\u001b[0m\u001b[0;34m\u001b[0m\u001b[0;34m\u001b[0m\u001b[0m\n\u001b[1;32m   1137\u001b[0m             \u001b[0;32mif\u001b[0m \u001b[0mengine\u001b[0m \u001b[0;34m==\u001b[0m \u001b[0;34m\"python\"\u001b[0m\u001b[0;34m:\u001b[0m\u001b[0;34m\u001b[0m\u001b[0;34m\u001b[0m\u001b[0m\n",
      "\u001b[0;32m~/opt/anaconda3/lib/python3.7/site-packages/pandas/io/parsers.py\u001b[0m in \u001b[0;36m__init__\u001b[0;34m(self, src, **kwds)\u001b[0m\n\u001b[1;32m   1915\u001b[0m         \u001b[0mkwds\u001b[0m\u001b[0;34m[\u001b[0m\u001b[0;34m\"usecols\"\u001b[0m\u001b[0;34m]\u001b[0m \u001b[0;34m=\u001b[0m \u001b[0mself\u001b[0m\u001b[0;34m.\u001b[0m\u001b[0musecols\u001b[0m\u001b[0;34m\u001b[0m\u001b[0;34m\u001b[0m\u001b[0m\n\u001b[1;32m   1916\u001b[0m \u001b[0;34m\u001b[0m\u001b[0m\n\u001b[0;32m-> 1917\u001b[0;31m         \u001b[0mself\u001b[0m\u001b[0;34m.\u001b[0m\u001b[0m_reader\u001b[0m \u001b[0;34m=\u001b[0m \u001b[0mparsers\u001b[0m\u001b[0;34m.\u001b[0m\u001b[0mTextReader\u001b[0m\u001b[0;34m(\u001b[0m\u001b[0msrc\u001b[0m\u001b[0;34m,\u001b[0m \u001b[0;34m**\u001b[0m\u001b[0mkwds\u001b[0m\u001b[0;34m)\u001b[0m\u001b[0;34m\u001b[0m\u001b[0;34m\u001b[0m\u001b[0m\n\u001b[0m\u001b[1;32m   1918\u001b[0m         \u001b[0mself\u001b[0m\u001b[0;34m.\u001b[0m\u001b[0munnamed_cols\u001b[0m \u001b[0;34m=\u001b[0m \u001b[0mself\u001b[0m\u001b[0;34m.\u001b[0m\u001b[0m_reader\u001b[0m\u001b[0;34m.\u001b[0m\u001b[0munnamed_cols\u001b[0m\u001b[0;34m\u001b[0m\u001b[0;34m\u001b[0m\u001b[0m\n\u001b[1;32m   1919\u001b[0m \u001b[0;34m\u001b[0m\u001b[0m\n",
      "\u001b[0;32mpandas/_libs/parsers.pyx\u001b[0m in \u001b[0;36mpandas._libs.parsers.TextReader.__cinit__\u001b[0;34m()\u001b[0m\n",
      "\u001b[0;32mpandas/_libs/parsers.pyx\u001b[0m in \u001b[0;36mpandas._libs.parsers.TextReader._setup_parser_source\u001b[0;34m()\u001b[0m\n",
      "\u001b[0;31mFileNotFoundError\u001b[0m: [Errno 2] File b'data/boston_housing_data.csv' does not exist: b'data/boston_housing_data.csv'"
     ]
    }
   ],
   "source": [
    "# Read in the Boston housing data.\n",
    "housing_csv = 'data/boston_housing_data.csv'\n",
    "housing = pd.read_csv(housing_csv)\n",
    "\n",
    "# Read in the drinks data.\n",
    "drink_cols = ['country', 'beer', 'spirit', 'wine', 'liters', 'continent']\n",
    "url = 'data/drinks.csv'\n",
    "drinks = pd.read_csv(url, header=0, names=drink_cols, na_filter=False)\n",
    "\n",
    "# Read in the ufo data.\n",
    "ufo = pd.read_csv('data/ufo.csv')\n",
    "ufo['Time'] = pd.to_datetime(ufo.Time)\n",
    "ufo['Year'] = ufo.Time.dt.year"
   ]
  },
  {
   "cell_type": "markdown",
   "metadata": {},
   "source": [
    "<a id=\"line-plots\"></a>\n",
    "## Line plots: Show the trend of a numerical variable over time\n",
    "---\n",
    "\n",
    "- **Objective:** **Use** Pandas methods for plotting.\n",
    "- **Objective:** **Create** line plots, bar plots, histograms, and box plots."
   ]
  },
  {
   "cell_type": "code",
   "execution_count": null,
   "metadata": {},
   "outputs": [],
   "source": [
    "# Count the number of ufo reports each year (and sort by year).\n"
   ]
  },
  {
   "cell_type": "code",
   "execution_count": null,
   "metadata": {},
   "outputs": [],
   "source": [
    "# Compare with line plot -- UFO sightings by year. (Ordering by year makes sense.)\n"
   ]
  },
  {
   "cell_type": "code",
   "execution_count": null,
   "metadata": {},
   "outputs": [],
   "source": [
    "# COMMON MISTAKE: Don't use a line plot when the x-axis cannot be ordered sensically!\n",
    "\n",
    "# For example, ordering by continent below shows a trend where no exists ... \n",
    "#    it would be just as valid to plot the continents in any order.\n",
    "\n",
    "# So, a line plot is the wrong type of plot for this data.\n",
    "# Always think about what you're plotting and if it makes sense.\n",
    "\n"
   ]
  },
  {
   "cell_type": "markdown",
   "metadata": {},
   "source": [
    "**Important:** A line plot is the wrong type of plot for this data. Any set of countries can be rearranged misleadingly to illustrate a negative trend, as we did here. Due to this, it would be more appropriate to represent this data using a bar plot, which does not imply a trend based on order."
   ]
  },
  {
   "cell_type": "code",
   "execution_count": null,
   "metadata": {},
   "outputs": [],
   "source": [
    "# Plot the same data as a (horizontal) bar plot -- a much better choice!\n"
   ]
  },
  {
   "cell_type": "markdown",
   "metadata": {},
   "source": [
    "### Line Plot With a `DataFrame`"
   ]
  },
  {
   "cell_type": "code",
   "execution_count": null,
   "metadata": {},
   "outputs": [],
   "source": [
    "df.plot();"
   ]
  },
  {
   "cell_type": "markdown",
   "metadata": {},
   "source": [
    "### How to change the size of a plot"
   ]
  },
  {
   "cell_type": "code",
   "execution_count": null,
   "metadata": {},
   "outputs": [],
   "source": [
    "# Technically the figsize is 15 \"inches\" (width) by 8 \"inches\" (height)\n",
    "#   The figure is specified in inches for printing -- you set a dpi (dots/pixels per inch) elsewhere\n",
    "df.plot(figsize=(15,8)); # width, height"
   ]
  },
  {
   "cell_type": "markdown",
   "metadata": {},
   "source": [
    "### How to change the color of a plot"
   ]
  },
  {
   "cell_type": "code",
   "execution_count": null,
   "metadata": {},
   "outputs": [],
   "source": [
    "df['col1'].plot(color='crimson', figsize=(16,8));"
   ]
  },
  {
   "cell_type": "markdown",
   "metadata": {},
   "source": [
    "### How to change the style of individual lines"
   ]
  },
  {
   "cell_type": "code",
   "execution_count": null,
   "metadata": {},
   "outputs": [],
   "source": [
    "# : - dotted line, v - triangle_down\n",
    "# r - red, b - blue\n",
    "df[['col1', 'col4']].plot(figsize=(15,7), style={'col1': ':r', 'col4': 'vb'});"
   ]
  },
  {
   "cell_type": "markdown",
   "metadata": {},
   "source": [
    "### Challenge: Create a line plot of `ZN` and `INDUS` in the housing data. \n",
    "\n",
    "- For `ZN`, use a solid green line. For `INDUS`, use a blue dashed line.\n",
    "- Change the figure size to a width of 12 and height of 8.\n",
    "- Change the style sheet to something you find [here](https://tonysyu.github.io/raw_content/matplotlib-style-gallery/gallery.html)."
   ]
  },
  {
   "cell_type": "code",
   "execution_count": null,
   "metadata": {},
   "outputs": [],
   "source": []
  },
  {
   "cell_type": "markdown",
   "metadata": {},
   "source": [
    "<a id=\"bar-plots\"></a>\n",
    "## Bar Plots: Show a numerical comparison across different categories\n",
    "---"
   ]
  },
  {
   "cell_type": "code",
   "execution_count": null,
   "metadata": {},
   "outputs": [],
   "source": [
    "# Count the number of countries in each continent.\n"
   ]
  },
  {
   "cell_type": "code",
   "execution_count": null,
   "metadata": {},
   "outputs": [],
   "source": [
    "# Compare with bar plot.\n"
   ]
  },
  {
   "cell_type": "code",
   "execution_count": null,
   "metadata": {},
   "outputs": [],
   "source": [
    "# Calculate the mean alcohol amounts for each continent.\n"
   ]
  },
  {
   "cell_type": "code",
   "execution_count": null,
   "metadata": {},
   "outputs": [],
   "source": [
    "# Side-by-side bar plots\n"
   ]
  },
  {
   "cell_type": "code",
   "execution_count": null,
   "metadata": {},
   "outputs": [],
   "source": [
    "# Sort the continent x-axis by a particular column.\n"
   ]
  },
  {
   "cell_type": "code",
   "execution_count": null,
   "metadata": {},
   "outputs": [],
   "source": [
    "# Stacked bar plot (with the liters comparison removed!)\n"
   ]
  },
  {
   "cell_type": "markdown",
   "metadata": {},
   "source": [
    "### Using a `DataFrame` and Matplotlib commands, we can get fancy."
   ]
  },
  {
   "cell_type": "code",
   "execution_count": null,
   "metadata": {},
   "outputs": [],
   "source": [
    "ax = df.plot(kind='bar', figsize=(15,3));\n",
    "\n",
    "# Set the title.\n",
    "ax.set_title('Some Kinda Plot Thingy', fontsize=21, y=1.01);\n",
    "\n",
    "# Move the legend.\n",
    "ax.legend(loc=1);\n",
    "\n",
    "# x-axis labels\n",
    "ax.set_ylabel('Important y-axis info', fontsize=16);\n",
    "\n",
    "# y-axis labels\n",
    "ax.set_xlabel('Meaningless x-axis info', fontsize=16);"
   ]
  },
  {
   "cell_type": "markdown",
   "metadata": {},
   "source": [
    "### Challenge: Create a bar chart using `col1` and `col2`.\n",
    "\n",
    "- Give the plot a large title of your choosing. \n",
    "- Move the legend to the lower-left corner."
   ]
  },
  {
   "cell_type": "code",
   "execution_count": null,
   "metadata": {},
   "outputs": [],
   "source": []
  },
  {
   "cell_type": "markdown",
   "metadata": {},
   "source": [
    "- Do the same thing but with horizontal bars.\n",
    "- Move the legend to the upper-right corner."
   ]
  },
  {
   "cell_type": "code",
   "execution_count": null,
   "metadata": {},
   "outputs": [],
   "source": []
  },
  {
   "cell_type": "markdown",
   "metadata": {},
   "source": [
    "### Stacked works on horizontal bar charts."
   ]
  },
  {
   "cell_type": "code",
   "execution_count": null,
   "metadata": {},
   "outputs": [],
   "source": []
  },
  {
   "cell_type": "markdown",
   "metadata": {},
   "source": [
    "<a id=\"histograms\"></a>\n",
    "## Histograms: Show the distribution of a numerical variable\n",
    "---\n"
   ]
  },
  {
   "cell_type": "code",
   "execution_count": null,
   "metadata": {},
   "outputs": [],
   "source": [
    "# Sort the beer column and mentally split it into three groups.\n",
    "drinks.beer.sort_values().values"
   ]
  },
  {
   "cell_type": "code",
   "execution_count": null,
   "metadata": {},
   "outputs": [],
   "source": [
    "# Compare the above with histogram.\n",
    "# About how many of the points above are in the groups 1-125, 125-250, and 250-376?\n",
    "drinks.beer.plot(kind='hist', bins=3);"
   ]
  },
  {
   "cell_type": "code",
   "execution_count": null,
   "metadata": {},
   "outputs": [],
   "source": [
    "# Try more bins — it takes the range of the data and divides it into 20 evenly spaced bins.\n",
    "drinks.beer.plot(kind='hist', bins=20);\n",
    "plt.xlabel('Beer Servings');\n",
    "plt.ylabel('Frequency');"
   ]
  },
  {
   "cell_type": "code",
   "execution_count": null,
   "metadata": {},
   "outputs": [],
   "source": [
    "# Compare with density plot (smooth version of a histogram).\n",
    "drinks.beer.plot(kind='density', xlim=(0, 500));"
   ]
  },
  {
   "cell_type": "code",
   "execution_count": null,
   "metadata": {},
   "outputs": [],
   "source": [
    "# Making histograms of DataFrames — histogram of random data\n",
    "df.hist(figsize=(16,8));"
   ]
  },
  {
   "cell_type": "markdown",
   "metadata": {},
   "source": [
    "### Single Histogram"
   ]
  },
  {
   "cell_type": "code",
   "execution_count": null,
   "metadata": {},
   "outputs": [],
   "source": [
    "norm = np.random.standard_normal(5000)"
   ]
  },
  {
   "cell_type": "code",
   "execution_count": null,
   "metadata": {},
   "outputs": [],
   "source": [
    "pd.Series(norm).hist(figsize=(16,4), bins=50);"
   ]
  },
  {
   "cell_type": "markdown",
   "metadata": {},
   "source": [
    "### Another bins example: Sometimes the binning makes the data look different or misleading."
   ]
  },
  {
   "cell_type": "code",
   "execution_count": null,
   "metadata": {},
   "outputs": [],
   "source": [
    "pd.Series(norm).hist(figsize=(16,4), bins=20);"
   ]
  },
  {
   "cell_type": "markdown",
   "metadata": {},
   "source": [
    "### Challenge: Create a histogram with pandas for using `MEDV` in the housing data.\n",
    "- Set the bins to 20."
   ]
  },
  {
   "cell_type": "code",
   "execution_count": null,
   "metadata": {},
   "outputs": [],
   "source": []
  },
  {
   "cell_type": "markdown",
   "metadata": {},
   "source": [
    "<a id=\"grouped-histograms\"></a>\n",
    "### Grouped histograms: Show one histogram for each group."
   ]
  },
  {
   "cell_type": "code",
   "execution_count": null,
   "metadata": {},
   "outputs": [],
   "source": [
    "# Reminder: Overall histogram of beer servings\n",
    "drinks.beer.plot(kind='hist');"
   ]
  },
  {
   "cell_type": "code",
   "execution_count": null,
   "metadata": {},
   "outputs": [],
   "source": [
    "# Histogram of beer servings grouped by continent -- how might these graphs be misleading?\n",
    "drinks.hist(column='beer', by='continent');"
   ]
  },
  {
   "cell_type": "code",
   "execution_count": null,
   "metadata": {},
   "outputs": [],
   "source": [
    "# Share the x- and y-axes.\n",
    "drinks.hist(column='beer', by='continent', sharex=True, sharey=True, layout=(2, 3));"
   ]
  },
  {
   "cell_type": "markdown",
   "metadata": {},
   "source": [
    "<a id=\"box-plots\"></a>\n",
    "## Box Plots: Show quartiles (and outliers) for one or more numerical variables\n",
    "---\n",
    "\n",
    "We can use boxplots to quickly summarize distributions.\n",
    "\n",
    "**Five-number summary:**\n",
    "\n",
    "- min = minimum value\n",
    "- 25% = first quartile (Q1) = median of the lower half of the data\n",
    "- 50% = second quartile (Q2) = median of the data\n",
    "- 75% = third quartile (Q3) = median of the upper half of the data\n",
    "- max = maximum value\n",
    "\n",
    "(It's more useful than mean and standard deviation for describing skewed distributions.)\n",
    "\n",
    "**Interquartile Range (IQR)** = Q3 - Q1\n",
    "\n",
    "**Outliers:**\n",
    "\n",
    "- below Q1 - 1.5 * IQR\n",
    "- above Q3 + 1.5 * IQR"
   ]
  },
  {
   "cell_type": "code",
   "execution_count": null,
   "metadata": {},
   "outputs": [],
   "source": [
    "df.boxplot();"
   ]
  },
  {
   "cell_type": "markdown",
   "metadata": {},
   "source": [
    "### Let's see how box plots are generated so we can best interpret them."
   ]
  },
  {
   "cell_type": "code",
   "execution_count": null,
   "metadata": {},
   "outputs": [],
   "source": [
    "# Sort the spirit column.\n",
    "drinks.spirit.sort_values().values"
   ]
  },
  {
   "cell_type": "code",
   "execution_count": null,
   "metadata": {},
   "outputs": [],
   "source": [
    "# Show \"five-number summary\" for spirit.\n",
    "drinks.spirit.describe()"
   ]
  },
  {
   "cell_type": "code",
   "execution_count": null,
   "metadata": {},
   "outputs": [],
   "source": [
    "# Compare with box plot.\n",
    "drinks.spirit.plot(kind='box');"
   ]
  },
  {
   "cell_type": "code",
   "execution_count": null,
   "metadata": {},
   "outputs": [],
   "source": [
    "# Include multiple variables.\n",
    "drinks.drop('liters', axis=1).plot(kind='box');"
   ]
  },
  {
   "cell_type": "markdown",
   "metadata": {},
   "source": [
    "### How to use a box plot to preview the distributions in the housing data"
   ]
  },
  {
   "cell_type": "code",
   "execution_count": null,
   "metadata": {},
   "outputs": [],
   "source": [
    "housing.boxplot();"
   ]
  },
  {
   "cell_type": "markdown",
   "metadata": {},
   "source": [
    "<a id=\"grouped-box-plots\"></a>\n",
    "### Grouped box plots: Show one box plot for each group."
   ]
  },
  {
   "cell_type": "code",
   "execution_count": null,
   "metadata": {},
   "outputs": [],
   "source": [
    "# Reminder: box plot of beer servings\n",
    "drinks.beer.plot(kind='box');"
   ]
  },
  {
   "cell_type": "code",
   "execution_count": null,
   "metadata": {},
   "outputs": [],
   "source": [
    "# Box plot of beer servings grouped by continent\n",
    "drinks.boxplot(column='beer', by='continent');"
   ]
  },
  {
   "cell_type": "code",
   "execution_count": null,
   "metadata": {},
   "outputs": [],
   "source": [
    "# Box plot of all numeric columns grouped by continent\n",
    "drinks.boxplot(by='continent');"
   ]
  },
  {
   "cell_type": "markdown",
   "metadata": {},
   "source": [
    "<a id=\"scatter-plots\"></a>\n",
    "## Scatter plots: Show the relationship between two numerical variables\n",
    "---\n"
   ]
  },
  {
   "cell_type": "code",
   "execution_count": null,
   "metadata": {},
   "outputs": [],
   "source": [
    "# Select the beer and wine columns and sort by beer.\n",
    "drinks[['beer', 'wine']].sort_values('beer').values"
   ]
  },
  {
   "cell_type": "code",
   "execution_count": null,
   "metadata": {},
   "outputs": [],
   "source": [
    "# Compare with scatter plot.\n",
    "drinks.plot(kind='scatter', x='beer', y='wine');"
   ]
  },
  {
   "cell_type": "code",
   "execution_count": null,
   "metadata": {},
   "outputs": [],
   "source": [
    "# Add transparency (great for plotting several graphs on top of each other, or for illustrating density!).\n"
   ]
  },
  {
   "cell_type": "code",
   "execution_count": null,
   "metadata": {},
   "outputs": [],
   "source": [
    "# Vary point color by spirit servings.\n",
    "drinks.plot(kind='scatter', x='beer', y='wine', c='spirit', colormap='Blues');"
   ]
  },
  {
   "cell_type": "code",
   "execution_count": null,
   "metadata": {},
   "outputs": [],
   "source": [
    "# Scatter matrix of three numerical columns\n",
    "pd.plotting.scatter_matrix(drinks[['beer', 'spirit', 'wine']], figsize=(10, 8));"
   ]
  },
  {
   "cell_type": "markdown",
   "metadata": {},
   "source": [
    "### Plotting `DataFrames`"
   ]
  },
  {
   "cell_type": "code",
   "execution_count": null,
   "metadata": {},
   "outputs": [],
   "source": [
    "df.plot(x='col3', y='col4', kind='scatter', color='dodgerblue',\n",
    "        figsize=(15,7), s=250);"
   ]
  },
  {
   "cell_type": "markdown",
   "metadata": {},
   "source": [
    "### How to view the association between the variables `ZN` and `INDUS` using a scatter plot"
   ]
  },
  {
   "cell_type": "code",
   "execution_count": null,
   "metadata": {},
   "outputs": [],
   "source": [
    "housing.plot(x='ZN', y='INDUS', kind='scatter', \n",
    "           color='dodgerblue', figsize=(15,7), s=100);"
   ]
  },
  {
   "cell_type": "markdown",
   "metadata": {},
   "source": [
    "### How to use a list comprehension to change the size of the scatter plot dots based on `DIS`"
   ]
  },
  {
   "cell_type": "code",
   "execution_count": null,
   "metadata": {},
   "outputs": [],
   "source": [
    "# This list comprehension sets the point sizes ('s') to be the squares of the values in housing['DIS']\n",
    "housing.plot(x='ZN', y='INDUS', kind='scatter', \n",
    "           color='dodgerblue', figsize=(15,7), s=[x**2 for x in housing['DIS']]);"
   ]
  },
  {
   "cell_type": "markdown",
   "metadata": {},
   "source": [
    "<a id=\"seaborn\"></a>\n",
    "## Seaborn `pairplot`\n",
    "\n",
    "---\n",
    "\n",
    "- **Objective:** Know when to use Seaborn or advanced Matplotlib.\n",
    "\n",
    "With the `DataFrame` object `housing`, we will render a pairplot using the Seaborn library.\n",
    "What do each of the elements represent? Is this more or less useful than the previous plot?"
   ]
  },
  {
   "cell_type": "code",
   "execution_count": null,
   "metadata": {},
   "outputs": [],
   "source": [
    "sns.pairplot(housing);"
   ]
  },
  {
   "cell_type": "markdown",
   "metadata": {},
   "source": [
    "**Answer:** _What do each of the elements represent?  Is this more or less useful than the previous plot?_\n",
    "> In a pair plot we get to see every relationship between every _pair_ of variables.  We can see this is very useful for quickly discovering which variables have some kind of correlation during an exploratory data analysis.  However, when just looking at the `INDUS` feature, the pair plot is more difficult to read and interpret as opposed to the single histogram.  "
   ]
  },
  {
   "cell_type": "markdown",
   "metadata": {},
   "source": [
    "## Seaborn `heatmap`\n",
    "---\n",
    "\n",
    "When you have too many variables, a pairplot or scatter matrix can become impossible to read. We can still gauge linear correlation using a heatmap of the correlation matrix."
   ]
  },
  {
   "cell_type": "code",
   "execution_count": null,
   "metadata": {},
   "outputs": [],
   "source": [
    "# Make a heatmap on the correlations between variables in the housing data:\n",
    "housing_correlations = housing.corr();\n",
    "sns.heatmap(housing_correlations);"
   ]
  },
  {
   "cell_type": "markdown",
   "metadata": {},
   "source": [
    "### Challenge: Create a scatter plot of two heatmap entries that appear to have a very positive correlation."
   ]
  },
  {
   "cell_type": "code",
   "execution_count": null,
   "metadata": {},
   "outputs": [],
   "source": []
  },
  {
   "cell_type": "markdown",
   "metadata": {},
   "source": [
    "- Now, create a scatter plot of two heatmap entries that appear to have negative correlation."
   ]
  },
  {
   "cell_type": "code",
   "execution_count": null,
   "metadata": {},
   "outputs": [],
   "source": []
  },
  {
   "cell_type": "markdown",
   "metadata": {},
   "source": [
    "<a id=\"matplotlib\"></a>\n",
    "## OPTIONAL: Understanding Matplotlib (Figures, Subplots, and Axes)\n",
    "\n",
    "---"
   ]
  },
  {
   "cell_type": "markdown",
   "metadata": {},
   "source": [
    "Matplotlib uses a blank canvas called a figure."
   ]
  },
  {
   "cell_type": "code",
   "execution_count": null,
   "metadata": {},
   "outputs": [],
   "source": [
    "fig = plt.subplots(1,1, figsize=(16,8));"
   ]
  },
  {
   "cell_type": "markdown",
   "metadata": {},
   "source": [
    "Within this canvas, we can contain smaller objects called axes."
   ]
  },
  {
   "cell_type": "code",
   "execution_count": null,
   "metadata": {},
   "outputs": [],
   "source": [
    "fig, axes = plt.subplots(2,3, figsize=(16,8));"
   ]
  },
  {
   "cell_type": "markdown",
   "metadata": {},
   "source": [
    "Pandas allows us to plot to a specified axes if we pass the object to the ax parameter."
   ]
  },
  {
   "cell_type": "code",
   "execution_count": null,
   "metadata": {
    "scrolled": true
   },
   "outputs": [],
   "source": [
    "fig, axes = plt.subplots(2,3, figsize=(16,8))\n",
    "df.plot(ax=axes[0][0]);\n",
    "df['col1'].plot(ax=axes[0][1]);\n",
    "df['col2'].plot(ax=axes[1][1]);"
   ]
  },
  {
   "cell_type": "markdown",
   "metadata": {},
   "source": [
    "## Let's use a bit more customization.\n",
    "---"
   ]
  },
  {
   "cell_type": "code",
   "execution_count": null,
   "metadata": {},
   "outputs": [],
   "source": [
    "fig, axes = plt.subplots(2,2, figsize=(16,8))\n",
    "\n",
    "# We can change the ticks' size.\n",
    "df['col2'].plot(figsize=(16,4), color='purple', fontsize=21, ax=axes[0][0])\n",
    "\n",
    "# We can also change which ticks are visible.\n",
    "# Let's show only the even ticks. ('idx % 2 == 0' only if 'idx' is even.)\n",
    "ticks_to_show = [idx for idx, _ in enumerate(df['col2'].index) if idx % 2 == 0]\n",
    "df['col2'].plot(figsize=(16,4), color='purple', xticks=ticks_to_show, fontsize=16, ax=axes[0][1])\n",
    "\n",
    "# We can change the label rotation.\n",
    "df.plot(figsize=(15,7), title='Big Rotated Labels - Tiny Title',\\\n",
    "        fontsize=20, rot=-50, ax=axes[1][0])\\\n",
    "\n",
    "# We have to use \".set_title()\" to fix title size.\n",
    "df.plot(figsize=(16,8), fontsize=20, rot=-50, ax=axes[1][1])\\\n",
    "       .set_title('Better-Sized Title', fontsize=21, y=1.01);"
   ]
  },
  {
   "cell_type": "markdown",
   "metadata": {
    "collapsed": true
   },
   "source": [
    "<a id=\"additional-topics\"></a>\n",
    "## OPTIONAL: Additional Topics"
   ]
  },
  {
   "cell_type": "code",
   "execution_count": null,
   "metadata": {},
   "outputs": [],
   "source": [
    "# Saving a plot to a file\n",
    "drinks.beer.plot(kind='hist', bins=20, title='Histogram of Beer Servings');\n",
    "plt.xlabel('Beer Servings');\n",
    "plt.ylabel('Frequency');\n",
    "plt.savefig('beer_histogram.png');    # Save to file!"
   ]
  },
  {
   "cell_type": "code",
   "execution_count": null,
   "metadata": {},
   "outputs": [],
   "source": [
    "# List available plot styles\n",
    "plt.style.available"
   ]
  },
  {
   "cell_type": "code",
   "execution_count": null,
   "metadata": {},
   "outputs": [],
   "source": [
    "# Change to a different style.\n",
    "plt.style.use('ggplot')"
   ]
  },
  {
   "cell_type": "markdown",
   "metadata": {
    "collapsed": true
   },
   "source": [
    "<a id=\"summary\"></a>\n",
    "### Summary\n",
    "\n",
    "In this lesson, we showed examples how to create a variety of plots using Pandas and Matplotlib. We also showed how to use each plot to effectively display data.\n",
    "\n",
    "Do not be concerned if you do not remember everything — this will come with practice! Although there are many plot styles, many similarities exist between how each plot is drawn. For example, they have most parameters in common, and the same Matplotlib functions are used to modify the plot area.\n",
    "\n",
    "We looked at:\n",
    "- Line plots\n",
    "- Bar plots\n",
    "- Histograms\n",
    "- Box plots\n",
    "- Special seaborn plots\n",
    "- How Matplotlib works"
   ]
  },
  {
   "cell_type": "code",
   "execution_count": null,
   "metadata": {},
   "outputs": [],
   "source": []
  }
 ],
 "metadata": {
  "kernelspec": {
   "display_name": "Python 3",
   "language": "python",
   "name": "python3"
  },
  "language_info": {
   "codemirror_mode": {
    "name": "ipython",
    "version": 3
   },
   "file_extension": ".py",
   "mimetype": "text/x-python",
   "name": "python",
   "nbconvert_exporter": "python",
   "pygments_lexer": "ipython3",
   "version": "3.7.4"
  }
 },
 "nbformat": 4,
 "nbformat_minor": 2
}
