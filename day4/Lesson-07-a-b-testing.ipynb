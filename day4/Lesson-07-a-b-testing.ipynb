{
 "cells": [
  {
   "cell_type": "markdown",
   "metadata": {
    "slideshow": {
     "slide_type": "slide"
    }
   },
   "source": [
    "# A/B Testing \n",
    "----\n",
    "DAT03 - อรรถพล ธำรงรัตนฤทธิ์"
   ]
  },
  {
   "cell_type": "code",
   "execution_count": 75,
   "metadata": {
    "slideshow": {
     "slide_type": "skip"
    }
   },
   "outputs": [],
   "source": [
    "import random\n",
    "def เรียกตอบ():\n",
    "    random_name = random.choice([x for x in open('roster.txt')]).strip()\n",
    "    print ('ขอเชิญคุณ{} ตอบครับ'.format(random_name))"
   ]
  },
  {
   "cell_type": "markdown",
   "metadata": {
    "slideshow": {
     "slide_type": "slide"
    }
   },
   "source": [
    "# Data-driven decisions by Data Scientist\n",
    "\n",
    "- การพัฒนา product จะต้องมี **metric** ชัดเจนเพื่อที่จะพัฒนาได้ง่าย (You cannot improve what you cannot measure)\n",
    "- ต้องมี**การทดลอง**เปรียบเทียบเพื่อให้แน่ใจว่า metric มันดีขึ้นจริงๆ "
   ]
  },
  {
   "cell_type": "markdown",
   "metadata": {
    "slideshow": {
     "slide_type": "slide"
    }
   },
   "source": [
    "# Typical Scenarios\n",
    "\n",
    "- อยากจะเปลี่ยนหน้าเว็บไซต์รู้ได้ยังไงว่ามันดีกว่า\n",
    "- อยากจะเปลี่ยนการจัดวางของบน shelf สินค้า รู้ได้ยังไงว่ามันดีขึ้น\n",
    "- เริ่ม campaign promotion ใหม่ รู้ได้ไงว่ามันมีประโยชน์"
   ]
  },
  {
   "cell_type": "code",
   "execution_count": 76,
   "metadata": {
    "collapsed": true,
    "slideshow": {
     "slide_type": "-"
    }
   },
   "outputs": [
    {
     "name": "stdout",
     "output_type": "stream",
     "text": [
      "ขอเชิญคุณอ๋อง ตอบครับ\n"
     ]
    }
   ],
   "source": [
    "เรียกตอบ()"
   ]
  },
  {
   "cell_type": "markdown",
   "metadata": {
    "slideshow": {
     "slide_type": "slide"
    }
   },
   "source": [
    "# A/B Testing - Experiment Design\n",
    "\n",
    "* Metric: User ใช้เวลาอยู่บนเว็บไซต์นานขนาดไหน \n",
    "* Experiment: \n",
    "  * A - Status quo = ของเดิม\n",
    "  * B - Experimental = ของใหม่\n",
    "* Subjects\n",
    "  * A - 95% ของ User (สุ่มมั่ว)\n",
    "  * B - 5% ของ User (สุ่มมั่ว)\n"
   ]
  },
  {
   "cell_type": "markdown",
   "metadata": {
    "slideshow": {
     "slide_type": "slide"
    }
   },
   "source": [
    "# We cannot ever get population data\n",
    "\n",
    "* เพราะอะไร ทำไมถึงไม่มีทางได้ User มาทั้งหมด?\n"
   ]
  },
  {
   "cell_type": "markdown",
   "metadata": {
    "slideshow": {
     "slide_type": "slide"
    }
   },
   "source": [
    "# Statistical Noise\n",
    "\n",
    "* กลุ่ม A ใช้เวลาโดยเฉลี่ย 26.2 วินาที\n",
    "* กลุ่ม B ใช้เวลาโดยเฉลี่ย 28.6 วินาที\n",
    "\n",
    "ทำไมเราถึงต้องใช้ Statistical test ก่อนตัดสินใจ"
   ]
  },
  {
   "cell_type": "code",
   "execution_count": 77,
   "metadata": {
    "collapsed": true,
    "slideshow": {
     "slide_type": "-"
    }
   },
   "outputs": [
    {
     "name": "stdout",
     "output_type": "stream",
     "text": [
      "ขอเชิญคุณนิว ตอบครับ\n"
     ]
    }
   ],
   "source": [
    "เรียกตอบ()"
   ]
  },
  {
   "cell_type": "markdown",
   "metadata": {
    "slideshow": {
     "slide_type": "slide"
    }
   },
   "source": [
    "# แหล่งที่มาของ Statistical noise\n",
    "\n",
    "* Data collection error\n",
    "* Noise เราไม่สามารถหาคำอธิบายได้\n",
    "* Error caused by sampling: เราบังเอิญได้ sample ที่มันไม่ค่อยปกติมา"
   ]
  },
  {
   "cell_type": "markdown",
   "metadata": {
    "slideshow": {
     "slide_type": "slide"
    }
   },
   "source": [
    "# รู้ตอนไหนว่าเราบังเอิญโชคดี หรือโชคร้าย\n",
    "\n",
    "* ต้องใช้ Hypothesis testing ในการตอบ\n",
    "* เราอยากรู้ว่าเรามีข้อมูลเพียงพอในการหาข้อสรุปหรือไม่"
   ]
  },
  {
   "cell_type": "markdown",
   "metadata": {
    "slideshow": {
     "slide_type": "slide"
    }
   },
   "source": [
    "# ควรจะใช้ test ไหน ขึ้นอยู่กับ data และ Hypothesis\n",
    "\n",
    "* One-sample test\n",
    "    * (t-test, z-test) เปรียบเทียบค่าเฉลี่ยที่เป็น continuous กับค่าคงที่ค่าหนึ่ง\n",
    "    * (binomial test) เปรียบเทียบอัตรา (percent) กับค่าคงที่ค่าหนึ่ง\n",
    "    * ( $\\chi^2$ test) เปรียบเทียบจำนวนนับ และการกระจายตัว \n",
    "* Two-sample test (คำนวณจากสองกลุ่มที่ไม่เกี่ยวกัน two independent sample)\n",
    "    * เปรียบเทียบค่าเฉลี่ยสองค่า \n",
    "    * เปรียบเทียบอัตรา สองอัตรา\n",
    "    * เปรียบเทียบจำนวนนับ และการกระจายตัว\n",
    "\n"
   ]
  },
  {
   "cell_type": "markdown",
   "metadata": {
    "slideshow": {
     "slide_type": "slide"
    }
   },
   "source": [
    "# 4 ขั้นตอนของการทำ Hypothesis testing\n",
    "\n",
    "1. ตั้งคำถามให้แน่ชัด \n",
    "2. เขียนคำถามให้อยู่ในรูปแบบของการคำนวณ parameter\n",
    "3. คำนวณ P(parameter) \n",
    "4. สรุปผล"
   ]
  },
  {
   "cell_type": "markdown",
   "metadata": {
    "slideshow": {
     "slide_type": "slide"
    }
   },
   "source": [
    "# 1. Formulate the question\n",
    "\n",
    "กลุ่ม B ใช้เวลาบนหน้าเว็บสูงกว่ากลุ่ม A หรือไม่\n",
    "\n",
    "a.  ใช่ กลุ่ม B ใช้เวลาบนหน้าเว็บสูงกว่ากลุ่ม A\n",
    "\n",
    "b.  ไม่ใช่ กลุ่ม B ใช้เวลาบนหน้าเว็บน้อยกว่ากลุ่ม A"
   ]
  },
  {
   "cell_type": "markdown",
   "metadata": {
    "slideshow": {
     "slide_type": "slide"
    }
   },
   "source": [
    "# 2. Mathematical formulation\n",
    "\n",
    "* กลุ่ม A ใช้เวลาโดยเฉลี่ย 26.2 วินาที --> $\\hat{\\mu}_a = 26.2$\n",
    "* กลุ่ม B ใช้เวลาโดยเฉลี่ย 28.6 วินาที --> $\\hat{\\mu}_b = 28.6$\n",
    "\n",
    "เราอยากจะ estimate model parameter ค่าความแตกต่าง\n",
    "$$\\hat{\\theta} = \\hat{\\mu}_b - \\hat{\\mu}_a $$\n",
    "\n",
    "a. $\\hat{\\theta} > 0$ (กลุ่ม B ใช้เวลาบนหน้าเว็บสูงกว่ากลุ่ม A)\n",
    "\n",
    "b. $\\hat{\\theta} \\leq 0$ (กลุ่ม B ใช้เวลาบนหน้าเว็บน้อยกว่ากลุ่ม A)\n"
   ]
  },
  {
   "cell_type": "markdown",
   "metadata": {
    "slideshow": {
     "slide_type": "slide"
    }
   },
   "source": [
    "# 3. Compute $P(\\hat{\\theta}| Data)$\n",
    "\n",
    "a. $P(\\hat{\\theta} > 0$) = 0.95?\n",
    "\n",
    "b. $P(\\hat{\\theta} \\leq 0)$ "
   ]
  },
  {
   "cell_type": "markdown",
   "metadata": {
    "slideshow": {
     "slide_type": "slide"
    }
   },
   "source": [
    "# 4. สรุปผล\n",
    "\n",
    "a. $P(\\hat{\\theta} > 0$) = 0.7\n",
    "\n",
    "b. $P(\\hat{\\theta} \\leq 0)$ = 0.3 "
   ]
  },
  {
   "cell_type": "markdown",
   "metadata": {
    "slideshow": {
     "slide_type": "slide"
    }
   },
   "source": [
    "# Classical Hypothesis Testing\n",
    "ของโบร่ำโบราณที่เรียนกันมานาน ก่อนทุกคนมีเครื่องคอมพิวเตอร์\n",
    "* t-test\n",
    "* z-test\n",
    "* ANOVA\n",
    "* binomial test"
   ]
  },
  {
   "cell_type": "markdown",
   "metadata": {
    "slideshow": {
     "slide_type": "slide"
    }
   },
   "source": [
    "# ไม่อยากใช้ Classical tests แล้ว\n",
    "\n",
    "* จำกัด Normality assumption \n",
    "* จำกัดว่าสองกลุ่มมีขนาดเท่ากันหรือไม่\n",
    "* จำกัดว่าต้อง sample เราต้องใหญ่แค่ไหน\n",
    "* ต้องตั้ง null hypothesis ขึ้นมาก่อน ต้องใช้ p-value"
   ]
  },
  {
   "cell_type": "markdown",
   "metadata": {
    "slideshow": {
     "slide_type": "slide"
    }
   },
   "source": [
    "# Bootstrap test\n",
    "* Key: รัน simulation เพื่อดูว่า parameter มันดิ้นไปดิ้นมาได้มากขนาดไหน เพื่อจะได้รู้ว่าเรามั่นใจแค่ไหนในการ estimate parameter ที่เราแคร์อยู่\n",
    "* ขั้นตอน\n",
    "\n",
    "\n",
    "1. สุ่ม data (เรียกว่า bootstrap resample)\n",
    "2. คำนวณ $\\theta_b$ ที่ต้องจะ test\n",
    "3. ทำซ้ำไปเรื่อย ๆ (ประมาณหมื่นครั้ง) แต่เก็บค่า $\\theta_b$ ไว้\n",
    "4. ดูว่า $\\theta_b$ จำนวนเท่าไรที่สนับสนุน hypothesis"
   ]
  },
  {
   "cell_type": "markdown",
   "metadata": {
    "slideshow": {
     "slide_type": "slide"
    }
   },
   "source": [
    "# Dataset "
   ]
  },
  {
   "cell_type": "code",
   "execution_count": 78,
   "metadata": {},
   "outputs": [],
   "source": [
    "import numpy as np\n",
    "import pandas as pd\n",
    "np.random.seed(30)\n",
    "num_a = 10\n",
    "num_b = 7\n",
    "data = pd.DataFrame({\n",
    "    'duration': np.random.normal(24, 4, num_a).tolist() + np.random.normal(25, 5, num_b).tolist(),\n",
    "    'group': ['a'] * num_a + ['b'] * num_b\n",
    "})"
   ]
  },
  {
   "cell_type": "code",
   "execution_count": 79,
   "metadata": {
    "slideshow": {
     "slide_type": "slide"
    }
   },
   "outputs": [
    {
     "data": {
      "text/html": [
       "<div>\n",
       "<style scoped>\n",
       "    .dataframe tbody tr th:only-of-type {\n",
       "        vertical-align: middle;\n",
       "    }\n",
       "\n",
       "    .dataframe tbody tr th {\n",
       "        vertical-align: top;\n",
       "    }\n",
       "\n",
       "    .dataframe thead th {\n",
       "        text-align: right;\n",
       "    }\n",
       "</style>\n",
       "<table border=\"1\" class=\"dataframe\">\n",
       "  <thead>\n",
       "    <tr style=\"text-align: right;\">\n",
       "      <th></th>\n",
       "      <th>duration</th>\n",
       "      <th>group</th>\n",
       "    </tr>\n",
       "  </thead>\n",
       "  <tbody>\n",
       "    <tr>\n",
       "      <th>3</th>\n",
       "      <td>25.882238</td>\n",
       "      <td>a</td>\n",
       "    </tr>\n",
       "    <tr>\n",
       "      <th>6</th>\n",
       "      <td>17.096150</td>\n",
       "      <td>a</td>\n",
       "    </tr>\n",
       "    <tr>\n",
       "      <th>14</th>\n",
       "      <td>31.919236</td>\n",
       "      <td>b</td>\n",
       "    </tr>\n",
       "    <tr>\n",
       "      <th>2</th>\n",
       "      <td>20.117156</td>\n",
       "      <td>a</td>\n",
       "    </tr>\n",
       "    <tr>\n",
       "      <th>10</th>\n",
       "      <td>32.891128</td>\n",
       "      <td>b</td>\n",
       "    </tr>\n",
       "    <tr>\n",
       "      <th>0</th>\n",
       "      <td>18.943789</td>\n",
       "      <td>a</td>\n",
       "    </tr>\n",
       "    <tr>\n",
       "      <th>4</th>\n",
       "      <td>23.597213</td>\n",
       "      <td>a</td>\n",
       "    </tr>\n",
       "    <tr>\n",
       "      <th>16</th>\n",
       "      <td>23.571772</td>\n",
       "      <td>b</td>\n",
       "    </tr>\n",
       "    <tr>\n",
       "      <th>8</th>\n",
       "      <td>24.537186</td>\n",
       "      <td>a</td>\n",
       "    </tr>\n",
       "    <tr>\n",
       "      <th>1</th>\n",
       "      <td>30.111621</td>\n",
       "      <td>a</td>\n",
       "    </tr>\n",
       "  </tbody>\n",
       "</table>\n",
       "</div>"
      ],
      "text/plain": [
       "     duration group\n",
       "3   25.882238     a\n",
       "6   17.096150     a\n",
       "14  31.919236     b\n",
       "2   20.117156     a\n",
       "10  32.891128     b\n",
       "0   18.943789     a\n",
       "4   23.597213     a\n",
       "16  23.571772     b\n",
       "8   24.537186     a\n",
       "1   30.111621     a"
      ]
     },
     "execution_count": 79,
     "metadata": {},
     "output_type": "execute_result"
    }
   ],
   "source": [
    "data.sample(10)"
   ]
  },
  {
   "cell_type": "code",
   "execution_count": 80,
   "metadata": {
    "slideshow": {
     "slide_type": "slide"
    }
   },
   "outputs": [
    {
     "data": {
      "text/plain": [
       "a    10\n",
       "b     7\n",
       "Name: group, dtype: int64"
      ]
     },
     "execution_count": 80,
     "metadata": {},
     "output_type": "execute_result"
    }
   ],
   "source": [
    "data.group.value_counts()"
   ]
  },
  {
   "cell_type": "code",
   "execution_count": 81,
   "metadata": {
    "slideshow": {
     "slide_type": "slide"
    }
   },
   "outputs": [
    {
     "data": {
      "text/html": [
       "<div>\n",
       "<style scoped>\n",
       "    .dataframe tbody tr th:only-of-type {\n",
       "        vertical-align: middle;\n",
       "    }\n",
       "\n",
       "    .dataframe tbody tr th {\n",
       "        vertical-align: top;\n",
       "    }\n",
       "\n",
       "    .dataframe thead th {\n",
       "        text-align: right;\n",
       "    }\n",
       "</style>\n",
       "<table border=\"1\" class=\"dataframe\">\n",
       "  <thead>\n",
       "    <tr style=\"text-align: right;\">\n",
       "      <th></th>\n",
       "      <th>duration</th>\n",
       "    </tr>\n",
       "    <tr>\n",
       "      <th>group</th>\n",
       "      <th></th>\n",
       "    </tr>\n",
       "  </thead>\n",
       "  <tbody>\n",
       "    <tr>\n",
       "      <th>a</th>\n",
       "      <td>23.541349</td>\n",
       "    </tr>\n",
       "    <tr>\n",
       "      <th>b</th>\n",
       "      <td>26.432196</td>\n",
       "    </tr>\n",
       "  </tbody>\n",
       "</table>\n",
       "</div>"
      ],
      "text/plain": [
       "        duration\n",
       "group           \n",
       "a      23.541349\n",
       "b      26.432196"
      ]
     },
     "execution_count": 81,
     "metadata": {},
     "output_type": "execute_result"
    }
   ],
   "source": [
    "data.groupby('group').mean()"
   ]
  },
  {
   "cell_type": "markdown",
   "metadata": {
    "slideshow": {
     "slide_type": "slide"
    }
   },
   "source": [
    "เราอยากจะ estimate model parameter ค่าความแตกต่าง\n",
    "$$\\hat{\\theta} = \\hat{\\mu}_b - \\hat{\\mu}_a $$"
   ]
  },
  {
   "cell_type": "code",
   "execution_count": 82,
   "metadata": {
    "slideshow": {
     "slide_type": "-"
    }
   },
   "outputs": [
    {
     "data": {
      "text/plain": [
       "2.890846877424085"
      ]
     },
     "execution_count": 82,
     "metadata": {},
     "output_type": "execute_result"
    }
   ],
   "source": [
    "mean_a = data[data.group == 'a'].duration.mean()\n",
    "mean_b = data[data.group == 'b'].duration.mean()\n",
    "theta = mean_b - mean_a\n",
    "theta"
   ]
  },
  {
   "cell_type": "markdown",
   "metadata": {
    "slideshow": {
     "slide_type": "slide"
    }
   },
   "source": [
    "# Bootstrap resample\n",
    "Bootstrap resample = หยิบสุ่มของแต่ละกลุ่มโดยที่\n",
    "* ขนาดต้องเท่าเดิม\n",
    "* sample with replacement - ตัวนึงสามารถถูกสุ่มหลายครั้งได้ (ซ้ำได้)"
   ]
  },
  {
   "cell_type": "code",
   "execution_count": 83,
   "metadata": {
    "slideshow": {
     "slide_type": "slide"
    }
   },
   "outputs": [
    {
     "data": {
      "text/html": [
       "<div>\n",
       "<style scoped>\n",
       "    .dataframe tbody tr th:only-of-type {\n",
       "        vertical-align: middle;\n",
       "    }\n",
       "\n",
       "    .dataframe tbody tr th {\n",
       "        vertical-align: top;\n",
       "    }\n",
       "\n",
       "    .dataframe thead th {\n",
       "        text-align: right;\n",
       "    }\n",
       "</style>\n",
       "<table border=\"1\" class=\"dataframe\">\n",
       "  <thead>\n",
       "    <tr style=\"text-align: right;\">\n",
       "      <th></th>\n",
       "      <th>duration</th>\n",
       "      <th>group</th>\n",
       "    </tr>\n",
       "  </thead>\n",
       "  <tbody>\n",
       "    <tr>\n",
       "      <th>5</th>\n",
       "      <td>25.215173</td>\n",
       "      <td>a</td>\n",
       "    </tr>\n",
       "    <tr>\n",
       "      <th>9</th>\n",
       "      <td>19.572578</td>\n",
       "      <td>a</td>\n",
       "    </tr>\n",
       "    <tr>\n",
       "      <th>3</th>\n",
       "      <td>25.882238</td>\n",
       "      <td>a</td>\n",
       "    </tr>\n",
       "    <tr>\n",
       "      <th>1</th>\n",
       "      <td>30.111621</td>\n",
       "      <td>a</td>\n",
       "    </tr>\n",
       "    <tr>\n",
       "      <th>4</th>\n",
       "      <td>23.597213</td>\n",
       "      <td>a</td>\n",
       "    </tr>\n",
       "    <tr>\n",
       "      <th>2</th>\n",
       "      <td>20.117156</td>\n",
       "      <td>a</td>\n",
       "    </tr>\n",
       "    <tr>\n",
       "      <th>3</th>\n",
       "      <td>25.882238</td>\n",
       "      <td>a</td>\n",
       "    </tr>\n",
       "    <tr>\n",
       "      <th>9</th>\n",
       "      <td>19.572578</td>\n",
       "      <td>a</td>\n",
       "    </tr>\n",
       "    <tr>\n",
       "      <th>8</th>\n",
       "      <td>24.537186</td>\n",
       "      <td>a</td>\n",
       "    </tr>\n",
       "    <tr>\n",
       "      <th>0</th>\n",
       "      <td>18.943789</td>\n",
       "      <td>a</td>\n",
       "    </tr>\n",
       "  </tbody>\n",
       "</table>\n",
       "</div>"
      ],
      "text/plain": [
       "    duration group\n",
       "5  25.215173     a\n",
       "9  19.572578     a\n",
       "3  25.882238     a\n",
       "1  30.111621     a\n",
       "4  23.597213     a\n",
       "2  20.117156     a\n",
       "3  25.882238     a\n",
       "9  19.572578     a\n",
       "8  24.537186     a\n",
       "0  18.943789     a"
      ]
     },
     "execution_count": 83,
     "metadata": {},
     "output_type": "execute_result"
    }
   ],
   "source": [
    "data[data.group == 'a'].sample(frac=1.0, replace=True)"
   ]
  },
  {
   "cell_type": "code",
   "execution_count": 84,
   "metadata": {
    "slideshow": {
     "slide_type": "slide"
    }
   },
   "outputs": [
    {
     "data": {
      "text/html": [
       "<div>\n",
       "<style scoped>\n",
       "    .dataframe tbody tr th:only-of-type {\n",
       "        vertical-align: middle;\n",
       "    }\n",
       "\n",
       "    .dataframe tbody tr th {\n",
       "        vertical-align: top;\n",
       "    }\n",
       "\n",
       "    .dataframe thead th {\n",
       "        text-align: right;\n",
       "    }\n",
       "</style>\n",
       "<table border=\"1\" class=\"dataframe\">\n",
       "  <thead>\n",
       "    <tr style=\"text-align: right;\">\n",
       "      <th></th>\n",
       "      <th>duration</th>\n",
       "      <th>group</th>\n",
       "    </tr>\n",
       "  </thead>\n",
       "  <tbody>\n",
       "    <tr>\n",
       "      <th>11</th>\n",
       "      <td>25.537490</td>\n",
       "      <td>b</td>\n",
       "    </tr>\n",
       "    <tr>\n",
       "      <th>11</th>\n",
       "      <td>25.537490</td>\n",
       "      <td>b</td>\n",
       "    </tr>\n",
       "    <tr>\n",
       "      <th>13</th>\n",
       "      <td>21.124057</td>\n",
       "      <td>b</td>\n",
       "    </tr>\n",
       "    <tr>\n",
       "      <th>14</th>\n",
       "      <td>31.919236</td>\n",
       "      <td>b</td>\n",
       "    </tr>\n",
       "    <tr>\n",
       "      <th>14</th>\n",
       "      <td>31.919236</td>\n",
       "      <td>b</td>\n",
       "    </tr>\n",
       "    <tr>\n",
       "      <th>12</th>\n",
       "      <td>21.179761</td>\n",
       "      <td>b</td>\n",
       "    </tr>\n",
       "    <tr>\n",
       "      <th>14</th>\n",
       "      <td>31.919236</td>\n",
       "      <td>b</td>\n",
       "    </tr>\n",
       "  </tbody>\n",
       "</table>\n",
       "</div>"
      ],
      "text/plain": [
       "     duration group\n",
       "11  25.537490     b\n",
       "11  25.537490     b\n",
       "13  21.124057     b\n",
       "14  31.919236     b\n",
       "14  31.919236     b\n",
       "12  21.179761     b\n",
       "14  31.919236     b"
      ]
     },
     "execution_count": 84,
     "metadata": {},
     "output_type": "execute_result"
    }
   ],
   "source": [
    "data[data.group == 'b'].sample(frac=1.0, replace=True)"
   ]
  },
  {
   "cell_type": "markdown",
   "metadata": {
    "slideshow": {
     "slide_type": "slide"
    }
   },
   "source": [
    "# หา $\\theta$ โดยใช้ Bootstrap resample"
   ]
  },
  {
   "cell_type": "code",
   "execution_count": 85,
   "metadata": {
    "slideshow": {
     "slide_type": "-"
    }
   },
   "outputs": [
    {
     "name": "stdout",
     "output_type": "stream",
     "text": [
      "2.890846877424085\n",
      "2.5353245261745734\n"
     ]
    }
   ],
   "source": [
    "def compute_boot_theta(data):\n",
    "    boot_resample_a = data[data.group == 'a'].sample(frac=1.0, replace=True)\n",
    "    boot_resample_b = data[data.group == 'b'].sample(frac=1.0, replace=True)\n",
    "\n",
    "    boot_mean_a = boot_resample_a.duration.mean()\n",
    "    boot_mean_b = boot_resample_b.duration.mean()\n",
    "    boot_theta = boot_mean_b - boot_mean_a\n",
    "    return boot_theta\n",
    "\n",
    "print (theta)\n",
    "print (compute_boot_theta(data))"
   ]
  },
  {
   "cell_type": "markdown",
   "metadata": {
    "slideshow": {
     "slide_type": "slide"
    }
   },
   "source": [
    "# Bootstrap resample ทำให้เห็นความแกว่ง"
   ]
  },
  {
   "cell_type": "code",
   "execution_count": 86,
   "metadata": {
    "slideshow": {
     "slide_type": "-"
    }
   },
   "outputs": [
    {
     "name": "stdout",
     "output_type": "stream",
     "text": [
      "-0.5790338324146802\n",
      "6.598566694751391\n",
      "2.288742844129626\n",
      "1.2892513447781546\n",
      "0.5294223590595699\n",
      "5.772148621374772\n",
      "2.761687830310912\n",
      "4.262783388114855\n",
      "2.772931834449583\n",
      "8.040017741382751\n"
     ]
    }
   ],
   "source": [
    "for i in range(10):\n",
    "    print (compute_boot_theta(data))"
   ]
  },
  {
   "cell_type": "markdown",
   "metadata": {
    "slideshow": {
     "slide_type": "slide"
    }
   },
   "source": [
    "# ลองนับดูว่าคำตอบไหนถูกสนับสนุนมากกว่ากัน\n",
    "a. $\\hat{\\theta} > 0$ (กลุ่ม B ใช้เวลาบนหน้าเว็บสูงกว่ากลุ่ม A)\n",
    "\n",
    "b. $\\hat{\\theta} \\leq 0$ (กลุ่ม B ใช้เวลาบนหน้าเว็บน้อยกว่ากลุ่ม A)"
   ]
  },
  {
   "cell_type": "code",
   "execution_count": 87,
   "metadata": {},
   "outputs": [
    {
     "name": "stdout",
     "output_type": "stream",
     "text": [
      "0.902\n"
     ]
    }
   ],
   "source": [
    "B = 10000\n",
    "b_is_better = 0\n",
    "for i in range(B):\n",
    "    if compute_boot_theta(data) > 0:\n",
    "        b_is_better += 1\n",
    "print (b_is_better / B)"
   ]
  },
  {
   "cell_type": "code",
   "execution_count": 88,
   "metadata": {},
   "outputs": [
    {
     "data": {
      "text/plain": [
       "2.890846877424085"
      ]
     },
     "execution_count": 88,
     "metadata": {},
     "output_type": "execute_result"
    }
   ],
   "source": [
    "mean_a = data[data.group == 'a'].duration.mean()\n",
    "mean_b = data[data.group == 'b'].duration.mean()\n",
    "theta = mean_b - mean_a\n",
    "theta"
   ]
  },
  {
   "cell_type": "code",
   "execution_count": null,
   "metadata": {
    "slideshow": {
     "slide_type": "slide"
    }
   },
   "outputs": [],
   "source": [
    "B = 5000\n",
    "boot_thetas = pd.Series([compute_boot_theta(data) for i in range(B)])"
   ]
  },
  {
   "cell_type": "code",
   "execution_count": 100,
   "metadata": {
    "slideshow": {
     "slide_type": "-"
    }
   },
   "outputs": [
    {
     "data": {
      "image/png": "[encoded data removed]",
      "text/plain": [
       "<Figure size 432x288 with 1 Axes>"
      ]
     },
     "metadata": {
      "needs_background": "light"
     },
     "output_type": "display_data"
    }
   ],
   "source": [
    "boot_thetas.hist(bins= 100);"
   ]
  },
  {
   "cell_type": "code",
   "execution_count": 90,
   "metadata": {},
   "outputs": [
    {
     "data": {
      "text/plain": [
       "0.9156"
      ]
     },
     "execution_count": 90,
     "metadata": {},
     "output_type": "execute_result"
    }
   ],
   "source": [
    "(boot_thetas > 0).mean()"
   ]
  },
  {
   "cell_type": "markdown",
   "metadata": {
    "slideshow": {
     "slide_type": "slide"
    }
   },
   "source": [
    "# Confidence Interval (error bar)\n",
    "\n",
    "Estimator มี variance อยู่ ถ้า 95% confidence interval ครอบสิ่งที่เราไม่ต้องการแสดงว่าเราไม่ชัวร์\n",
    "\n",
    "95% confidence interval = เรามั่นใจ 95% ว่าค่า parameter ที่แท้จริงอยู่ในนี้"
   ]
  },
  {
   "cell_type": "code",
   "execution_count": 93,
   "metadata": {},
   "outputs": [
    {
     "name": "stdout",
     "output_type": "stream",
     "text": [
      "[-1.322151031911079, 7.206394838287808]\n"
     ]
    }
   ],
   "source": [
    "lower_bound = boot_thetas.quantile(0.025)\n",
    "upper_bound = boot_thetas.quantile(1.0-0.025)\n",
    "print ([lower_bound, upper_bound])"
   ]
  },
  {
   "cell_type": "markdown",
   "metadata": {
    "slideshow": {
     "slide_type": "slide"
    }
   },
   "source": [
    "# ยิ่งมั่นใจก็ยิ่งกว้าง\n",
    "* 100% Confidence Interval เท่ากับเท่าไร\n",
    "* 99% Confidence Interval เท่ากับเท่าไร"
   ]
  },
  {
   "cell_type": "code",
   "execution_count": 101,
   "metadata": {
    "slideshow": {
     "slide_type": "-"
    }
   },
   "outputs": [
    {
     "data": {
      "image/png": "[encoded data removed]",
      "text/plain": [
       "<Figure size 432x288 with 1 Axes>"
      ]
     },
     "metadata": {
      "needs_background": "light"
     },
     "output_type": "display_data"
    }
   ],
   "source": [
    "boot_thetas.hist(bins= 100);"
   ]
  },
  {
   "cell_type": "code",
   "execution_count": 103,
   "metadata": {
    "slideshow": {
     "slide_type": "slide"
    }
   },
   "outputs": [
    {
     "name": "stdout",
     "output_type": "stream",
     "text": [
      "[-1.322151031911079, 7.206394838287808]\n"
     ]
    }
   ],
   "source": [
    "lower_bound = boot_thetas.quantile(0.025)\n",
    "upper_bound = boot_thetas.quantile(1.0-0.025)\n",
    "print ([lower_bound, upper_bound])"
   ]
  },
  {
   "cell_type": "code",
   "execution_count": 102,
   "metadata": {},
   "outputs": [
    {
     "name": "stdout",
     "output_type": "stream",
     "text": [
      "[-2.5350252172937036, 8.609277598186164]\n"
     ]
    }
   ],
   "source": [
    "lower_bound = boot_thetas.quantile(0.005)\n",
    "upper_bound = boot_thetas.quantile(1.0-0.005)\n",
    "print ([lower_bound, upper_bound])"
   ]
  },
  {
   "cell_type": "markdown",
   "metadata": {
    "slideshow": {
     "slide_type": "slide"
    }
   },
   "source": [
    "# จริงง่ะ มัน work ได้ยังไง\n",
    "\n",
    "* Bootstrap resample หนึ่งครั้ง เหมือนเราจำลองสถานการณ์ที่เป็นไปได้อีกอันว่าเราอาจจะโชคร้ายหรือไม่โชคร้ายก็ได้\n"
   ]
  },
  {
   "cell_type": "markdown",
   "metadata": {
    "slideshow": {
     "slide_type": "slide"
    }
   },
   "source": [
    "# Modern Statistics\n",
    "* ไม่มีฟังก์ชันสำเร็จรูป เพราะขึ้นอยู่กับ parameter ที่เราต้องการคำนวณ\n",
    "* ต้องมีคอมพิวเตอร์ที่แรงขึ้นมานิดนึง\n",
    "* ต้องเขียนโค้ดเป็น"
   ]
  },
  {
   "cell_type": "code",
   "execution_count": null,
   "metadata": {
    "slideshow": {
     "slide_type": "slide"
    }
   },
   "outputs": [],
   "source": [
    "def compute_boot_theta(data):\n",
    "    boot_resample_a = data[data.group == 'a'].sample(frac=1.0, replace=True)\n",
    "    boot_resample_b = data[data.group == 'b'].sample(frac=1.0, replace=True)\n",
    "\n",
    "    boot_mean_a = boot_resample_a.duration.mean()\n",
    "    boot_mean_b = boot_resample_b.duration.mean()\n",
    "    boot_theta = boot_mean_b - boot_mean_a\n",
    "    return boot_theta\n",
    "\n",
    "def compute_boot_theta2(data_group_a, data_group_b):\n",
    "    boot_resample_a = data_group_a.sample(frac=1.0, replace=True)\n",
    "    boot_resample_b = data_group_b.sample(frac=1.0, replace=True)\n",
    "\n",
    "    boot_mean_a = boot_resample_a.duration.mean()\n",
    "    boot_mean_b = boot_resample_b.duration.mean()\n",
    "    boot_theta = boot_mean_b - boot_mean_a\n",
    "    return boot_theta"
   ]
  },
  {
   "cell_type": "code",
   "execution_count": null,
   "metadata": {
    "slideshow": {
     "slide_type": "slide"
    }
   },
   "outputs": [],
   "source": [
    "group_a = data[data.group =='a']\n",
    "group_b = data[data.group =='b']\n",
    "B = 10000"
   ]
  },
  {
   "cell_type": "code",
   "execution_count": null,
   "metadata": {},
   "outputs": [],
   "source": [
    "%%time \n",
    "boot_thetas = [compute_boot_theta2(group_a, group_b) for x in range(B)]"
   ]
  },
  {
   "cell_type": "code",
   "execution_count": null,
   "metadata": {},
   "outputs": [],
   "source": [
    "%%time\n",
    "boot_thetas = [compute_boot_theta(data) for x in range(B)]"
   ]
  },
  {
   "cell_type": "markdown",
   "metadata": {
    "slideshow": {
     "slide_type": "slide"
    }
   },
   "source": [
    "# Bootstrap test\n",
    "* Key: รัน simulation เพื่อดูว่า parameter มันดิ้นไปดิ้นมาได้มากขนาดไหน เพื่อจะได้รู้ว่าเรามั่นใจแค่ไหนในการ estimate parameter ที่เราแคร์อยู่\n",
    "* ขั้นตอน\n",
    "\n",
    "\n",
    "1. สุ่ม data (เรียกว่า bootstrap resample)\n",
    "2. คำนวณ $\\theta_b$ ที่ต้องจะ test\n",
    "3. ทำซ้ำไปเรื่อย ๆ (ประมาณหมื่นครั้ง) แต่เก็บค่า $\\theta_b$ ไว้\n",
    "4. ดูว่า $\\theta_b$ จำนวนเท่าไรที่สนับสนุน hypothesis"
   ]
  },
  {
   "cell_type": "markdown",
   "metadata": {
    "slideshow": {
     "slide_type": "slide"
    }
   },
   "source": [
    "# Exercise - Lunch data\n",
    "คำถาม - พักเที่ยงนานขึ้นส่งผลต่อ productivity หรือไม่\n"
   ]
  },
  {
   "cell_type": "code",
   "execution_count": null,
   "metadata": {},
   "outputs": [],
   "source": [
    "lunch_data = pd.read_csv('lunch_data.csv', index_col=0)"
   ]
  },
  {
   "cell_type": "code",
   "execution_count": null,
   "metadata": {},
   "outputs": [],
   "source": []
  },
  {
   "cell_type": "markdown",
   "metadata": {},
   "source": [
    "# Exercise - Bootstrapping Regression Model\n",
    "\n",
    "เราสามารถ Bootstrap เพื่อหา confidence interval ของแต่ละ regression coefficiant ได้โดยการ bootstrap resample training data และ fit model หลายๆ ครั้ง \n",
    "\n",
    "ให้หา 95% confidence interval ของแต่ละ coefficient"
   ]
  },
  {
   "cell_type": "code",
   "execution_count": 4,
   "metadata": {},
   "outputs": [],
   "source": [
    "import pandas as pd \n",
    "url = './bikeshare.csv'\n",
    "bikes = pd.read_csv(url, index_col='datetime', parse_dates=True)\n",
    "bikes.rename(columns={'count':'total_rentals'}, inplace=True)\n",
    "\n",
    "feature_cols = ['atemp', 'temp', 'season', 'weather', 'humidity']"
   ]
  },
  {
   "cell_type": "code",
   "execution_count": 5,
   "metadata": {},
   "outputs": [
    {
     "data": {
      "text/plain": [
       "Ridge(alpha=1.0, copy_X=True, fit_intercept=True, max_iter=None,\n",
       "      normalize=False, random_state=None, solver='auto', tol=0.001)"
      ]
     },
     "execution_count": 5,
     "metadata": {},
     "output_type": "execute_result"
    }
   ],
   "source": [
    "from sklearn.linear_model import Ridge\n",
    "model = Ridge()\n",
    "model.fit(bikes[feature_cols], bikes.total_rentals)"
   ]
  },
  {
   "cell_type": "code",
   "execution_count": 6,
   "metadata": {},
   "outputs": [
    {
     "data": {
      "text/plain": [
       "array([ 4.87289652,  2.64736638, 22.32765466,  7.37793239, -3.16978284])"
      ]
     },
     "execution_count": 6,
     "metadata": {},
     "output_type": "execute_result"
    }
   ],
   "source": [
    "model.coef_"
   ]
  },
  {
   "cell_type": "code",
   "execution_count": 21,
   "metadata": {},
   "outputs": [
    {
     "data": {
      "text/plain": [
       "array([ 5.35540121,  2.29973677, 20.6224328 , 10.90119864, -3.38259585])"
      ]
     },
     "execution_count": 21,
     "metadata": {},
     "output_type": "execute_result"
    }
   ],
   "source": [
    "bootstrap_resample = bikes.sample(frac=1.0, replace=True)\n",
    "\n",
    "model = Ridge()\n",
    "model.fit(bootstrap_resample[feature_cols], bootstrap_resample.total_rentals)\n",
    "model.coef_"
   ]
  },
  {
   "cell_type": "code",
   "execution_count": null,
   "metadata": {},
   "outputs": [],
   "source": []
  }
 ],
 "metadata": {
  "celltoolbar": "Slideshow",
  "kernelspec": {
   "display_name": "Python 3",
   "language": "python",
   "name": "python3"
  },
  "language_info": {
   "codemirror_mode": {
    "name": "ipython",
    "version": 3
   },
   "file_extension": ".py",
   "mimetype": "text/x-python",
   "name": "python",
   "nbconvert_exporter": "python",
   "pygments_lexer": "ipython3",
   "version": "3.7.3"
  }
 },
 "nbformat": 4,
 "nbformat_minor": 4
}
