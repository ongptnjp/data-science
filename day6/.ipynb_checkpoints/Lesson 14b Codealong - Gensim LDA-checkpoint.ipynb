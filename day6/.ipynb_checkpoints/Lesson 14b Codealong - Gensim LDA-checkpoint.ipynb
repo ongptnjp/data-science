{
 "cells": [
  {
   "cell_type": "code",
   "execution_count": null,
   "metadata": {},
   "outputs": [],
   "source": [
    "import pandas as pd\n",
    "from gensim.models.ldamodel import LdaModel\n",
    "from gensim import corpora\n",
    "from collections import Counter"
   ]
  },
  {
   "cell_type": "code",
   "execution_count": null,
   "metadata": {},
   "outputs": [],
   "source": [
    "data = pd.read_csv('wongnai/wongnai_tokenized.csv')"
   ]
  },
  {
   "cell_type": "code",
   "execution_count": 85,
   "metadata": {},
   "outputs": [],
   "source": [
    "import re\n",
    "patt = re.compile('[ก-๙]+')\n",
    "doc_list = [[w for w in x.split('|') if patt.match(w)] for x in data.iloc[:,0]]"
   ]
  },
  {
   "cell_type": "code",
   "execution_count": 86,
   "metadata": {},
   "outputs": [],
   "source": [
    "c = Counter([w for d in doc_list for w in d])"
   ]
  },
  {
   "cell_type": "code",
   "execution_count": 87,
   "metadata": {},
   "outputs": [],
   "source": [
    "stop_words = set([x[0] for x in c.most_common(200)])"
   ]
  },
  {
   "cell_type": "code",
   "execution_count": 88,
   "metadata": {},
   "outputs": [],
   "source": [
    "cleaned_doc_list = [[w for w in d if w not in stop_words] for d in doc_list]"
   ]
  },
  {
   "cell_type": "code",
   "execution_count": 93,
   "metadata": {},
   "outputs": [],
   "source": [
    "lda_dict = corpora.Dictionary(cleaned_doc_list[0:20000])\n",
    "data_set = [lda_dict.doc2bow(doc) for doc in cleaned_doc_list[0:20000]]\n",
    "model = LdaModel(corpus=data_set, num_topics=20, id2word=lda_dict, \n",
    "                 alpha='auto', eval_every=10, random_state=10)"
   ]
  },
  {
   "cell_type": "code",
   "execution_count": 94,
   "metadata": {},
   "outputs": [
    {
     "name": "stdout",
     "output_type": "stream",
     "text": [
      "0:จุ่ม ราเมง ไทย คั่ว ใต้ รม หอย เซท โอเค หอยนาง\n",
      "1:แกง ปู มะม่วง ยำ ก้อ กะหรี่ ส้ม เปรี้ยว ทะเล กระเทียม\n",
      "2:เรือ ฿ โรตี ขนมจีน ขา ตี ตลาด โร แกง หมก\n",
      "3:เป็ด บะหมี่ พะโล้ กระเพาะ แดง เกี๊ยว หมูก ข้าวหมูก ลูก ปู\n",
      "4:ต้มยำ ชาม ปรุง ลูกชิ้น ลูก ต้ม แซ่บ ส้มตำ เด็ด เปรี้ยว\n",
      "5:ไส้ แป้ง แดง ซื้อ ถั่ว กล่อง ครีม ลูก จีน สับ\n",
      "6:ต้ม เช้า ตุ๋น หม้อ โจ๊ก ขา สุกี้ กระทะ ซอย ไฟ\n",
      "7:งาน เหมาะ สบาย เพื่อน คุณ เดิม นัก ธรรมดา เรื่อง ห้อง\n",
      "8:เลวร้าย เตี้ย จักรยาน ล่า ส้มตำ  เล้ย ซาลาเปาไส้ จันทบุรี ปักษ์ใต้ ๐\n",
      "9:ซื้อ คะแนน ต่างๆ ไอศครีม คิดเห็น เต็ม ต่อ ณ หาก เเต่\n",
      "10:รู้สึก พวก คง คุณภาพ อัน รู้ โอเค เพื่อน ไหร่ คุ้ม\n",
      "11:ญี่ปุ่น ตกแต่ง ชุด สไตล์ บน เบียร์ สวย สบาย เสิร์ฟ ดิบ\n",
      "12:สลัด ชา นม สเต็ก ชาเขียว ผลไม้ หลากหลาย แก้ว ปั่น รัก\n",
      "13:ไอศกรีม สลัด เลี่ยน ตกแต่ง ชีส ครีม เปรี้ยว ขนมปัง แข็ง พิซซ่า\n",
      "14:โรง ซ้าย มือ เลี้ยว ห้อง แรม ขวา แยก ขับ เจอ\n",
      "15:เป็ด คับ ทะเล แดง ปู เผา หมูก บะหมี่ กั้ง หาด\n",
      "16:ขนมปัง กล้วย นม ปิ้ง เนย ปัง ฮัน หล่อ ชา ครีม\n",
      "17:สิงคโปร์ ลอดช่อง เครป เกาะ ช่อง พิกัดร้าน บ. ลอด น่ะ ชิวๆ\n",
      "18:รูป ถ่าย ผิด ทะเล หวัง สวย วิว รัก ยำ หอย\n",
      "19:เรย ชาไทย เกา ด้ง เหลา เค คูปอง ผักหวาน รองเท้า ต้มแซ่บ\n"
     ]
    }
   ],
   "source": [
    "for i in range(model.num_topics):\n",
    "    print (str(i) + ':' + ' '.join([w[0] for w in model.show_topic(i)]))"
   ]
  },
  {
   "cell_type": "code",
   "execution_count": 95,
   "metadata": {},
   "outputs": [
    {
     "data": {
      "text/plain": [
       "array([0.0416468 , 0.05808626, 0.04119034, 0.03995679, 0.07644956,\n",
       "       0.05019543, 0.05124072, 0.06910271, 0.02821081, 0.05147266,\n",
       "       0.09504916, 0.08618183, 0.04489356, 0.05175386, 0.05460163,\n",
       "       0.04662002, 0.04005941, 0.03800264, 0.06473176, 0.03614684],\n",
       "      dtype=float32)"
      ]
     },
     "execution_count": 95,
     "metadata": {},
     "output_type": "execute_result"
    }
   ],
   "source": [
    "model.alpha\n"
   ]
  },
  {
   "cell_type": "code",
   "execution_count": 81,
   "metadata": {},
   "outputs": [
    {
     "data": {
      "text/plain": [
       "array([0.025, 0.025, 0.025, ..., 0.025, 0.025, 0.025], dtype=float32)"
      ]
     },
     "execution_count": 81,
     "metadata": {},
     "output_type": "execute_result"
    }
   ],
   "source": [
    "model.eta"
   ]
  }
 ],
 "metadata": {
  "kernelspec": {
   "display_name": "Python 3",
   "language": "python",
   "name": "python3"
  },
  "language_info": {
   "codemirror_mode": {
    "name": "ipython",
    "version": 3
   },
   "file_extension": ".py",
   "mimetype": "text/x-python",
   "name": "python",
   "nbconvert_exporter": "python",
   "pygments_lexer": "ipython3",
   "version": "3.7.4"
  }
 },
 "nbformat": 4,
 "nbformat_minor": 2
}
