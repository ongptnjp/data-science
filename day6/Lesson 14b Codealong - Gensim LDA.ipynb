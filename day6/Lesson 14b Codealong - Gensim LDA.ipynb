{
 "cells": [
  {
   "cell_type": "code",
   "execution_count": 1,
   "metadata": {},
   "outputs": [],
   "source": [
    "import pandas as pd\n",
    "from gensim.models.ldamodel import LdaModel\n",
    "from gensim import corpora\n",
    "from collections import Counter"
   ]
  },
  {
   "cell_type": "code",
   "execution_count": 4,
   "metadata": {},
   "outputs": [],
   "source": [
    "data = pd.read_csv('./wongnai_tokenized.csv')"
   ]
  },
  {
   "cell_type": "code",
   "execution_count": 11,
   "metadata": {},
   "outputs": [
    {
     "data": {
      "text/html": [
       "<div>\n",
       "<style scoped>\n",
       "    .dataframe tbody tr th:only-of-type {\n",
       "        vertical-align: middle;\n",
       "    }\n",
       "\n",
       "    .dataframe tbody tr th {\n",
       "        vertical-align: top;\n",
       "    }\n",
       "\n",
       "    .dataframe thead th {\n",
       "        text-align: right;\n",
       "    }\n",
       "</style>\n",
       "<table border=\"1\" class=\"dataframe\">\n",
       "  <thead>\n",
       "    <tr style=\"text-align: right;\">\n",
       "      <th></th>\n",
       "      <th>tokens</th>\n",
       "      <th>label</th>\n",
       "    </tr>\n",
       "  </thead>\n",
       "  <tbody>\n",
       "    <tr>\n",
       "      <td>0</td>\n",
       "      <td>ร้าน|อาหาร|ใหญ่|มาก|กกกกกก| |\\n|เลี้ยว|เข้า|มา...</td>\n",
       "      <td>3</td>\n",
       "    </tr>\n",
       "    <tr>\n",
       "      <td>1</td>\n",
       "      <td>อาหาร|ที่|นี่|เป็น|อาหาร|จีนแคะ|ที่|หากิน|ยาก|...</td>\n",
       "      <td>4</td>\n",
       "    </tr>\n",
       "    <tr>\n",
       "      <td>2</td>\n",
       "      <td>ปอเปี๊ยะ|สด| |ทุก|วัน|นี้|รู้สึก|ว่า|หากิน|ยาก...</td>\n",
       "      <td>3</td>\n",
       "    </tr>\n",
       "    <tr>\n",
       "      <td>3</td>\n",
       "      <td>รัาน|คัพ|เค้ก|ใน|เมืองไทย|มี|ไม่|มาก| |หลาย|ๆ|...</td>\n",
       "      <td>5</td>\n",
       "    </tr>\n",
       "    <tr>\n",
       "      <td>4</td>\n",
       "      <td>อร่อย|!!!| |เดิน|ผ่าน|Digital| |gatewayทุกวัน|...</td>\n",
       "      <td>5</td>\n",
       "    </tr>\n",
       "  </tbody>\n",
       "</table>\n",
       "</div>"
      ],
      "text/plain": [
       "                                              tokens  label\n",
       "0  ร้าน|อาหาร|ใหญ่|มาก|กกกกกก| |\\n|เลี้ยว|เข้า|มา...      3\n",
       "1  อาหาร|ที่|นี่|เป็น|อาหาร|จีนแคะ|ที่|หากิน|ยาก|...      4\n",
       "2  ปอเปี๊ยะ|สด| |ทุก|วัน|นี้|รู้สึก|ว่า|หากิน|ยาก...      3\n",
       "3  รัาน|คัพ|เค้ก|ใน|เมืองไทย|มี|ไม่|มาก| |หลาย|ๆ|...      5\n",
       "4  อร่อย|!!!| |เดิน|ผ่าน|Digital| |gatewayทุกวัน|...      5"
      ]
     },
     "execution_count": 11,
     "metadata": {},
     "output_type": "execute_result"
    }
   ],
   "source": [
    "data.head()"
   ]
  },
  {
   "cell_type": "code",
   "execution_count": 12,
   "metadata": {},
   "outputs": [
    {
     "data": {
      "text/plain": [
       "['ร้าน',\n",
       " 'อาหาร',\n",
       " 'ใหญ่',\n",
       " 'มาก',\n",
       " 'กกกกกก',\n",
       " ' ',\n",
       " '\\n',\n",
       " 'เลี้ยว',\n",
       " 'เข้า',\n",
       " 'มา',\n",
       " 'เจอ',\n",
       " 'ห้องน้ำ',\n",
       " 'ก่อน',\n",
       " 'เลย',\n",
       " ' ',\n",
       " 'เออ',\n",
       " 'แปลก',\n",
       " 'ดี',\n",
       " ' ',\n",
       " '\\n',\n",
       " 'ห้อง',\n",
       " 'ทาน',\n",
       " 'หลัก',\n",
       " 'ๆ',\n",
       " 'อยู่',\n",
       " 'ชั้น',\n",
       " ' ',\n",
       " '2',\n",
       " ' ',\n",
       " 'มี',\n",
       " 'กาแฟ',\n",
       " ' ',\n",
       " 'น้ำผึ้ง',\n",
       " ' ',\n",
       " 'ซึ่ง',\n",
       " 'ก็',\n",
       " 'แค่',\n",
       " 'เอา',\n",
       " 'น้ำ',\n",
       " 'ผึ้ง',\n",
       " 'มา',\n",
       " 'ราด',\n",
       " ' ',\n",
       " 'แพง',\n",
       " 'เวอร์',\n",
       " ' ',\n",
       " 'อย่า',\n",
       " 'สั่ง',\n",
       " 'เลย',\n",
       " ' ',\n",
       " '\\n',\n",
       " 'ลาบไข่',\n",
       " 'ต้ม',\n",
       " ' ',\n",
       " 'ไข่',\n",
       " 'มัน',\n",
       " 'คาว',\n",
       " 'อะ',\n",
       " ' ',\n",
       " 'เลย',\n",
       " 'ไม่',\n",
       " 'ประทับใจ',\n",
       " 'เท่า',\n",
       " 'ไหร่\\n',\n",
       " 'ทอด',\n",
       " 'มัน',\n",
       " 'หัว',\n",
       " 'ปลีก',\n",
       " 'รอบ',\n",
       " 'อร่อย',\n",
       " 'ต้อง',\n",
       " 'เบิ้ล \\n',\n",
       " 'พะแนง',\n",
       " 'ห่อ',\n",
       " 'ไข่',\n",
       " 'อร่อย',\n",
       " 'ดี',\n",
       " ' ',\n",
       " 'เห้ย',\n",
       " 'แต่',\n",
       " 'ราคา',\n",
       " ' ',\n",
       " '150',\n",
       " 'บาท',\n",
       " 'มัน',\n",
       " 'เกิน',\n",
       " 'ไป',\n",
       " 'นะ',\n",
       " ' ',\n",
       " 'รับ',\n",
       " 'ไม่',\n",
       " 'ไหวว',\n",
       " '\\n',\n",
       " 'เลิก',\n",
       " 'กิน',\n",
       " 'แล้ว',\n",
       " 'มี',\n",
       " 'ขนม',\n",
       " 'หวาน',\n",
       " 'ให้',\n",
       " 'กิน',\n",
       " 'ฟรี',\n",
       " 'เล็กน้อย',\n",
       " ' ',\n",
       " ')',\n",
       " 'ขนม',\n",
       " 'ไทย',\n",
       " ')',\n",
       " ' ',\n",
       " '\\n',\n",
       " '\\n',\n",
       " 'คง',\n",
       " 'ไม่',\n",
       " 'ไป',\n",
       " 'ซ้ำ',\n",
       " ' ',\n",
       " 'แพง',\n",
       " 'เกิน',\n",
       " ' ']"
      ]
     },
     "execution_count": 12,
     "metadata": {},
     "output_type": "execute_result"
    }
   ],
   "source": [
    "data.tokens[0].split(\"|\")"
   ]
  },
  {
   "cell_type": "code",
   "execution_count": 16,
   "metadata": {},
   "outputs": [],
   "source": [
    "import re\n",
    "patt = re.compile('[ก-๙]+')\n",
    "doc_list = [[w for w in x.split('|') if patt.match(w)] for x in data.iloc[:,0]]"
   ]
  },
  {
   "cell_type": "code",
   "execution_count": 17,
   "metadata": {},
   "outputs": [],
   "source": [
    "c = Counter([w for d in doc_list for w in d])"
   ]
  },
  {
   "cell_type": "code",
   "execution_count": 18,
   "metadata": {},
   "outputs": [],
   "source": [
    "stop_words = set([x[0] for x in c.most_common(200)])"
   ]
  },
  {
   "cell_type": "code",
   "execution_count": 19,
   "metadata": {},
   "outputs": [],
   "source": [
    "cleaned_doc_list = [[w for w in d if w not in stop_words] for d in doc_list]"
   ]
  },
  {
   "cell_type": "code",
   "execution_count": 21,
   "metadata": {},
   "outputs": [
    {
     "data": {
      "text/plain": [
       "40000"
      ]
     },
     "execution_count": 21,
     "metadata": {},
     "output_type": "execute_result"
    }
   ],
   "source": [
    "len(cleaned_doc_list)"
   ]
  },
  {
   "cell_type": "code",
   "execution_count": 34,
   "metadata": {},
   "outputs": [],
   "source": [
    "lda_dict = corpora.Dictionary(cleaned_doc_list[20000:40000])\n",
    "data_set = [lda_dict.doc2bow(doc) for doc in cleaned_doc_list[20000:40000]]\n",
    "model = LdaModel(corpus=data_set, num_topics=40, id2word=lda_dict, \n",
    "                 alpha='auto', eval_every=20, random_state=20)"
   ]
  },
  {
   "cell_type": "code",
   "execution_count": 35,
   "metadata": {},
   "outputs": [
    {
     "name": "stdout",
     "output_type": "stream",
     "text": [
      "0:กะหรี่ แกง กระทะ ข้าวแกง เซ็ต หน่อย\n",
      " ผักหวาน ท่า เซท ตื่น\n",
      "1:ครีม เสิร์ฟ ญี่ปุ่น คำ รู้สึก ขนาด บ้าง รู้ รีวิว เลี่ยน\n",
      "2:เหนือ บิงซู แข็ง เมล็ด เฟ่ คง ไส ละเอียด สบาย เนียน\n",
      "3:ถนน ริม ตลาด เจอ ซ้าย ซอย มือ เลี้ยว ซื้อ ขวา\n",
      "4:เพลง รสชาต หนังสือ อ่าน ทาร์ต งาน ร้อง เหมาะ รัก เล่น\n",
      "5:บะหมี่ ต้มยำ ลูกชิ้น แดง ลูก ลวก ชาม ปรุง หมูก สับ\n",
      "6:ไทย ต่าง ดัง ชาติ วิว นัก ปาก ค่า ชาว พูด\n",
      "7:ห้อง คุณ แอร์ สวน งาน รับ ป้า โซน ตลอด สบาย\n",
      "8:ญี่ปุ่น กระดูก ชาบู มิ ซูชิ เทมปุระ สมราคา อุด้ง ราเมน สิงคโปร์\n",
      "9:สลัด สเต็ก สอง สปาเก็ตตี้ ชีส ไส้กรอก ขนมปัง เลี่ยน สเต๊ก เบคอน\n",
      "10:น้อง เรื่อง รับ คิว คง รู้ พอสมควร เล่น รัก เลี้ยว\n",
      "11:ไส้ แป้ง ตุ๋น ซาลาเปา ซื้อ ติ่มซำ ขนมจีบ คุ้ม บัน เซต\n",
      "12:ซื้อ แก้ว แถม ดีล ค่า โปรโมชั่น จ่าย ลด คาราเมล บุคคล\n",
      "13:โรง แรม ห้อง พัก เช้า โอเค รู้สึก เพื่อน มอง เคาน์เตอร์\n",
      "14:ชา ตกแต่ง ชีส สไตล์ ส้ม สบาย หนึ่ง เหมาะ ชี แนว\n",
      "15:สี ไม้ กลิ่น ขาว แยก ฝั่ง ซื้อ ตกแต่ง ใบ ซ้าย\n",
      "16:นัก ศึกษา รถไฟ เกาเหลา เกา เหลา เรียน ค่ำ เปน สถานี\n",
      "17:ลด เรือ ก้อ บัตร คับ โปรโมชั่น แซลมอน เครดิต เหลือ ท้อง\n",
      "18:เป็ด เกี๊ยว พะโล้ หมูก สะเต๊ะ หนัง ห้าง แห้ง ชาม แดง\n",
      "19:ส้มตำ แซ่บ ลาบ แกง ตำ ต้ม คอ คั่ว ถาด ส้ม\n",
      "20:มะพร้าว ต้มยำ โครง ซี่ กะทิ เซ็ท ข้าวเหนียว ธรรมดา เจ๊ อ้วน\n",
      "21:รูป ถ่าย เจ้าของ กล่อง เพื่อน สวย รัก มุม งาน ซื้อ\n",
      "22:พลาด จ้า ห้าม ๆๆ เกี๊ยว เขา ใจดี เจ้าของ กันเอง ราเมน\n",
      "23:เช้า โจ๊ก ขนมปัง แพนเค้ก ครีม กด ค่อน เจ มื้อ ชีส\n",
      "24:เดิม ชาม ปี ที วัตถุ กระเพรา แห้ง ดิบ รู้สึก ปรุง\n",
      "25:ขนมจีน แกง ป่า ไอ น้ำยา ศครีม ยา น้ำพริก เขียวหวาน เงี้ยว\n",
      "26:สลัด สุขภาพ ผลไม้ ก ผล โอ้ กระเฉด วัย โค้ง เหมาะ\n",
      "27:บน ญี่ปุ่น นำ ซอย ฝั่ง ปรุง สามารถ ลง ไทย ต้ม\n",
      "28:฿ ไอศกรีม ไอติม อัน ถ้วย แข็ง ชาเขียว เขา ครีม บาท\n",
      "\n",
      "29:ขา หนัง ก้ น้ำพริก ทะเล สีลม ต้มยำ อบ เผา หนุ่ม\n",
      "30:ชุด ผิด หวัง คิว คำ คุ้ม ซูชิ สอง คุณภาพ จอง\n",
      "31:พิซซ่า สุกี้ ไอศครีม เครป แก้ว ปั่น โรล หลากหลาย วิปครีม มอค\n",
      "32:ปู ทะเล ซี เผา นึ่ง ผง หมึก อัน เห็ด กระเทียม\n",
      "33:หอย ไวน์ ไลน์ ยุง อบ วัว ม้า เขา ที ขับ\n",
      "34:นม ขนมปัง ปิ้ง ชา เนย แข็ง ปัง ข้น ปั่น กลิ่น\n",
      "35:เบียร์ หม้อ เปรี้ยว มะม่วง เสิร์ฟ สามารถ ไฟ เช่น ตัก นำ\n",
      "36:ยำ จีน จืด ผิด หวัง อัน ต้มยำ ข้น วุ้นเส้น ต้ม\n",
      "37:ใส โซดา ฮัน อั่ว จัดการ มีเมนู โทส เมล่อน ทั้งที่ เมลอน\n",
      "38:เกาหลี เวียดนาม แหนม แป้ง ต้ม ข้าวโพด รู้สึก เนือง ปลาทู แปลก\n",
      "39:อีสาน ฝน ตก ราเมง เเต่ โลตัส เเละ เดือด เฟส นั้ง\n"
     ]
    }
   ],
   "source": [
    "for i in range(model.num_topics):\n",
    "    print (str(i) + ':' + ' '.join([w[0] for w in model.show_topic(i)]))"
   ]
  },
  {
   "cell_type": "code",
   "execution_count": 36,
   "metadata": {},
   "outputs": [
    {
     "data": {
      "text/plain": [
       "array([0.02494654, 0.03279975, 0.0276606 , 0.0290288 , 0.0273406 ,\n",
       "       0.02839691, 0.03219305, 0.0344318 , 0.02493629, 0.03107993,\n",
       "       0.03347869, 0.03053566, 0.02682541, 0.02739991, 0.03306701,\n",
       "       0.03259388, 0.02352036, 0.02706025, 0.02610426, 0.02730302,\n",
       "       0.02630633, 0.03074114, 0.02586883, 0.0270736 , 0.0331059 ,\n",
       "       0.02688723, 0.02410431, 0.03921381, 0.02966989, 0.0271692 ,\n",
       "       0.03130716, 0.02458622, 0.02877226, 0.02926006, 0.03143772,\n",
       "       0.03511414, 0.02913856, 0.02421009, 0.02669899, 0.02228507],\n",
       "      dtype=float32)"
      ]
     },
     "execution_count": 36,
     "metadata": {},
     "output_type": "execute_result"
    }
   ],
   "source": [
    "model.alpha\n"
   ]
  },
  {
   "cell_type": "code",
   "execution_count": 31,
   "metadata": {},
   "outputs": [
    {
     "data": {
      "text/plain": [
       "array([0.025, 0.025, 0.025, ..., 0.025, 0.025, 0.025], dtype=float32)"
      ]
     },
     "execution_count": 31,
     "metadata": {},
     "output_type": "execute_result"
    }
   ],
   "source": [
    "model.eta"
   ]
  },
  {
   "cell_type": "code",
   "execution_count": null,
   "metadata": {},
   "outputs": [],
   "source": []
  }
 ],
 "metadata": {
  "kernelspec": {
   "display_name": "Python 3",
   "language": "python",
   "name": "python3"
  },
  "language_info": {
   "codemirror_mode": {
    "name": "ipython",
    "version": 3
   },
   "file_extension": ".py",
   "mimetype": "text/x-python",
   "name": "python",
   "nbconvert_exporter": "python",
   "pygments_lexer": "ipython3",
   "version": "3.7.4"
  }
 },
 "nbformat": 4,
 "nbformat_minor": 2
}
