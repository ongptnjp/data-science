{
 "cells": [
  {
   "cell_type": "code",
   "execution_count": 5,
   "metadata": {},
   "outputs": [],
   "source": [
    "import pythainlp\n",
    "from pythainlp.tokenize import word_tokenize"
   ]
  },
  {
   "cell_type": "code",
   "execution_count": 3,
   "metadata": {},
   "outputs": [
    {
     "name": "stdout",
     "output_type": "stream",
     "text": [
      "['สั่ง', 'ซื้อ', 'ไอ', 'โฟน', 'ส่ง', 'ถึง', 'เชียงใหม่', 'ใช้', 'เวลา', 'กี่', 'วัน']\n"
     ]
    }
   ],
   "source": [
    "test_sentence = \"สั่งซื้อไอโฟนส่งถึงเชียงใหม่ใช้เวลากี่วัน\"\n",
    "\n",
    "tokens = word_tokenize(test_sentence, \n",
    "                       engine=\"attacut\")\n",
    "print(tokens)"
   ]
  },
  {
   "cell_type": "code",
   "execution_count": 4,
   "metadata": {},
   "outputs": [
    {
     "name": "stdout",
     "output_type": "stream",
     "text": [
      "['สั่ง', 'ซื้อ', 'ไอ', 'โฟน', 'ส่ง', 'ถึง', 'เชียงใหม่', 'ใช้', 'เวลา', 'กี่', 'วัน']\n"
     ]
    }
   ],
   "source": [
    "test_sentence = \"สั่งซื้อไอโฟนส่งถึงเชียงใหม่ใช้เวลากี่วัน\"\n",
    "\n",
    "tokens = pythainlp.tokenize.word_tokenize(test_sentence, \n",
    "                                 engine=\"attacut\")\n",
    "print(tokens)"
   ]
  },
  {
   "cell_type": "code",
   "execution_count": 7,
   "metadata": {},
   "outputs": [
    {
     "name": "stdout",
     "output_type": "stream",
     "text": [
      "attacut :  ['เอา', 'หู', 'หมีมา', 'ใส่', 'หู', 'หมู', 'เอา', 'หูหนู', 'มา', 'ใส่', 'หู', 'หมีหู', 'หมู', 'หู', 'หมี', 'เอา', 'หูหมีมา', 'ใส่', 'หู', 'หมู']\n",
      "newmm :  ['เอา', 'หู', 'หมี', 'มา', 'ใส่', 'หู', 'หมู', 'เอา', 'หูหนู', 'มา', 'ใส่', 'หู', 'หมี', 'หู', 'หมู', 'หู', 'หมี', 'เอา', 'หู', 'หมี', 'มา', 'ใส่', 'หู', 'หมู']\n"
     ]
    }
   ],
   "source": [
    "combine = \"เอาหูหมีมาใส่หูหมูเอาหูหนูมาใส่หูหมีหูหมูหูหมีเอาหูหมีมาใส่หูหมู\"\n",
    "\n",
    "attacut = word_tokenize(combine, engine = \"attacut\")\n",
    "newmm = word_tokenize(combine, engine = \"newmm\")\n",
    "print(\"attacut : \", attacut)\n",
    "print(\"newmm : \", newmm)"
   ]
  },
  {
   "cell_type": "code",
   "execution_count": 11,
   "metadata": {},
   "outputs": [
    {
     "data": {
      "text/plain": [
       "[('สภา', 'NOUN'),\n",
       " ('แต่งตั้ง', 'CCONJ'),\n",
       " ('คุณประยุทธ์', 'NOUN'),\n",
       " ('เป็น', 'VERB'),\n",
       " ('นายก', 'NOUN'),\n",
       " ('รัฐมนตรี', 'NOUN')]"
      ]
     },
     "execution_count": 11,
     "metadata": {},
     "output_type": "execute_result"
    }
   ],
   "source": [
    "sentense = \"สภาแต่งตั้งคุณประยุทธ์เป็นนายกรัฐมนตรี\"\n",
    "pythainlp.tag.pos_tag(word_tokenize(sentense, engine= \"attacut\"), corpus=\"orchid_ud\")"
   ]
  },
  {
   "cell_type": "code",
   "execution_count": 4,
   "metadata": {},
   "outputs": [
    {
     "name": "stdout",
     "output_type": "stream",
     "text": [
      "A DET \n",
      "bird NOUN \n",
      "in ADP \n",
      "the DET \n",
      "hand NOUN \n",
      "is AUX \n",
      "worth ADJ \n",
      "two NUM CARDINAL\n",
      "in ADP \n",
      "the DET \n",
      "bush NOUN PERSON\n"
     ]
    }
   ],
   "source": [
    "import spacy\n",
    "english_processor = spacy.load(\"en_core_web_sm\")\n",
    "doc = english_processor(\"A bird in the hand is worth two in the bush\")\n",
    "for token in doc:\n",
    "    print(token.text, token.pos_, token.ent_type_)"
   ]
  },
  {
   "cell_type": "code",
   "execution_count": null,
   "metadata": {},
   "outputs": [],
   "source": []
  }
 ],
 "metadata": {
  "kernelspec": {
   "display_name": "Python 3",
   "language": "python",
   "name": "python3"
  },
  "language_info": {
   "codemirror_mode": {
    "name": "ipython",
    "version": 3
   },
   "file_extension": ".py",
   "mimetype": "text/x-python",
   "name": "python",
   "nbconvert_exporter": "python",
   "pygments_lexer": "ipython3",
   "version": "3.7.4"
  }
 },
 "nbformat": 4,
 "nbformat_minor": 2
}
